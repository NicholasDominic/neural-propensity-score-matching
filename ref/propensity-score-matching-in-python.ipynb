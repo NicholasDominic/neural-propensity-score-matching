{
 "cells": [
  {
   "cell_type": "markdown",
   "id": "b90baa8f",
   "metadata": {
    "papermill": {
     "duration": 0.01092,
     "end_time": "2023-01-23T02:14:25.524755",
     "exception": false,
     "start_time": "2023-01-23T02:14:25.513835",
     "status": "completed"
    },
    "tags": []
   },
   "source": [
    "# About\n",
    "Refer to my tutorial titled \"A Practical Guide to Propensity Score Matching\" at https://harrywang.me/psm-did"
   ]
  },
  {
   "cell_type": "code",
   "execution_count": 8,
   "id": "e20826e1",
   "metadata": {
    "papermill": {
     "duration": 1.128938,
     "end_time": "2023-01-23T02:14:26.663533",
     "exception": false,
     "start_time": "2023-01-23T02:14:25.534595",
     "status": "completed"
    },
    "tags": []
   },
   "outputs": [],
   "source": [
    "# load packages\n",
    "import numpy as np\n",
    "import pandas as pd\n",
    "import matplotlib.pyplot as plt\n",
    "import seaborn as sns\n",
    "import math\n",
    "sns.set()  # set the style"
   ]
  },
  {
   "cell_type": "code",
   "execution_count": 9,
   "id": "50793474",
   "metadata": {
    "papermill": {
     "duration": 0.055545,
     "end_time": "2023-01-23T02:14:26.728893",
     "exception": false,
     "start_time": "2023-01-23T02:14:26.673348",
     "status": "completed"
    },
    "tags": []
   },
   "outputs": [],
   "source": [
    "# read data\n",
    "df = pd.read_csv('datasets/groupon.csv')"
   ]
  },
  {
   "cell_type": "code",
   "execution_count": 10,
   "id": "1b87f84d",
   "metadata": {
    "papermill": {
     "duration": 0.03386,
     "end_time": "2023-01-23T02:14:26.773540",
     "exception": false,
     "start_time": "2023-01-23T02:14:26.739680",
     "status": "completed"
    },
    "tags": []
   },
   "outputs": [
    {
     "data": {
      "text/html": [
       "<div>\n",
       "<style scoped>\n",
       "    .dataframe tbody tr th:only-of-type {\n",
       "        vertical-align: middle;\n",
       "    }\n",
       "\n",
       "    .dataframe tbody tr th {\n",
       "        vertical-align: top;\n",
       "    }\n",
       "\n",
       "    .dataframe thead th {\n",
       "        text-align: right;\n",
       "    }\n",
       "</style>\n",
       "<table border=\"1\" class=\"dataframe\">\n",
       "  <thead>\n",
       "    <tr style=\"text-align: right;\">\n",
       "      <th></th>\n",
       "      <th>deal_id</th>\n",
       "      <th>start_date</th>\n",
       "      <th>min_req</th>\n",
       "      <th>treatment</th>\n",
       "      <th>prom_length</th>\n",
       "      <th>price</th>\n",
       "      <th>discount_pct</th>\n",
       "      <th>coupon_duration</th>\n",
       "      <th>featured</th>\n",
       "      <th>limited_supply</th>\n",
       "      <th>fb_likes</th>\n",
       "      <th>quantity_sold</th>\n",
       "      <th>revenue</th>\n",
       "    </tr>\n",
       "  </thead>\n",
       "  <tbody>\n",
       "    <tr>\n",
       "      <th>0</th>\n",
       "      <td>heli-flights</td>\n",
       "      <td>9/23/2011</td>\n",
       "      <td>10</td>\n",
       "      <td>1</td>\n",
       "      <td>4</td>\n",
       "      <td>99</td>\n",
       "      <td>51</td>\n",
       "      <td>185</td>\n",
       "      <td>1</td>\n",
       "      <td>1</td>\n",
       "      <td>290</td>\n",
       "      <td>540</td>\n",
       "      <td>53460</td>\n",
       "    </tr>\n",
       "    <tr>\n",
       "      <th>1</th>\n",
       "      <td>gl-champion-series-tennis-electric-factory</td>\n",
       "      <td>9/23/2011</td>\n",
       "      <td>20</td>\n",
       "      <td>1</td>\n",
       "      <td>2</td>\n",
       "      <td>95</td>\n",
       "      <td>41</td>\n",
       "      <td>9</td>\n",
       "      <td>0</td>\n",
       "      <td>1</td>\n",
       "      <td>43</td>\n",
       "      <td>190</td>\n",
       "      <td>18050</td>\n",
       "    </tr>\n",
       "    <tr>\n",
       "      <th>2</th>\n",
       "      <td>realm-of-terror-horror-experience</td>\n",
       "      <td>9/23/2011</td>\n",
       "      <td>50</td>\n",
       "      <td>1</td>\n",
       "      <td>3</td>\n",
       "      <td>25</td>\n",
       "      <td>50</td>\n",
       "      <td>38</td>\n",
       "      <td>0</td>\n",
       "      <td>1</td>\n",
       "      <td>208</td>\n",
       "      <td>380</td>\n",
       "      <td>9500</td>\n",
       "    </tr>\n",
       "    <tr>\n",
       "      <th>3</th>\n",
       "      <td>newport-gourmet</td>\n",
       "      <td>9/23/2011</td>\n",
       "      <td>15</td>\n",
       "      <td>1</td>\n",
       "      <td>3</td>\n",
       "      <td>50</td>\n",
       "      <td>50</td>\n",
       "      <td>369</td>\n",
       "      <td>0</td>\n",
       "      <td>1</td>\n",
       "      <td>16</td>\n",
       "      <td>90</td>\n",
       "      <td>4500</td>\n",
       "    </tr>\n",
       "    <tr>\n",
       "      <th>4</th>\n",
       "      <td>the-clayroom</td>\n",
       "      <td>9/23/2011</td>\n",
       "      <td>20</td>\n",
       "      <td>1</td>\n",
       "      <td>4</td>\n",
       "      <td>25</td>\n",
       "      <td>52</td>\n",
       "      <td>185</td>\n",
       "      <td>0</td>\n",
       "      <td>1</td>\n",
       "      <td>85</td>\n",
       "      <td>580</td>\n",
       "      <td>14500</td>\n",
       "    </tr>\n",
       "  </tbody>\n",
       "</table>\n",
       "</div>"
      ],
      "text/plain": [
       "                                      deal_id start_date  min_req  treatment  \\\n",
       "0                                heli-flights  9/23/2011       10          1   \n",
       "1  gl-champion-series-tennis-electric-factory  9/23/2011       20          1   \n",
       "2           realm-of-terror-horror-experience  9/23/2011       50          1   \n",
       "3                             newport-gourmet  9/23/2011       15          1   \n",
       "4                                the-clayroom  9/23/2011       20          1   \n",
       "\n",
       "   prom_length  price  discount_pct  coupon_duration  featured  \\\n",
       "0            4     99            51              185         1   \n",
       "1            2     95            41                9         0   \n",
       "2            3     25            50               38         0   \n",
       "3            3     50            50              369         0   \n",
       "4            4     25            52              185         0   \n",
       "\n",
       "   limited_supply  fb_likes  quantity_sold  revenue  \n",
       "0               1       290            540    53460  \n",
       "1               1        43            190    18050  \n",
       "2               1       208            380     9500  \n",
       "3               1        16             90     4500  \n",
       "4               1        85            580    14500  "
      ]
     },
     "execution_count": 10,
     "metadata": {},
     "output_type": "execute_result"
    }
   ],
   "source": [
    "df.head()"
   ]
  },
  {
   "cell_type": "code",
   "execution_count": 11,
   "id": "7b74b317",
   "metadata": {
    "papermill": {
     "duration": 0.032345,
     "end_time": "2023-01-23T02:14:26.815776",
     "exception": false,
     "start_time": "2023-01-23T02:14:26.783431",
     "status": "completed"
    },
    "tags": []
   },
   "outputs": [
    {
     "data": {
      "text/html": [
       "<div>\n",
       "<style scoped>\n",
       "    .dataframe tbody tr th:only-of-type {\n",
       "        vertical-align: middle;\n",
       "    }\n",
       "\n",
       "    .dataframe tbody tr th {\n",
       "        vertical-align: top;\n",
       "    }\n",
       "\n",
       "    .dataframe thead th {\n",
       "        text-align: right;\n",
       "    }\n",
       "</style>\n",
       "<table border=\"1\" class=\"dataframe\">\n",
       "  <thead>\n",
       "    <tr style=\"text-align: right;\">\n",
       "      <th></th>\n",
       "      <th>min_req</th>\n",
       "      <th>prom_length</th>\n",
       "      <th>price</th>\n",
       "      <th>discount_pct</th>\n",
       "      <th>coupon_duration</th>\n",
       "      <th>featured</th>\n",
       "      <th>limited_supply</th>\n",
       "      <th>fb_likes</th>\n",
       "      <th>quantity_sold</th>\n",
       "      <th>revenue</th>\n",
       "    </tr>\n",
       "    <tr>\n",
       "      <th>treatment</th>\n",
       "      <th></th>\n",
       "      <th></th>\n",
       "      <th></th>\n",
       "      <th></th>\n",
       "      <th></th>\n",
       "      <th></th>\n",
       "      <th></th>\n",
       "      <th></th>\n",
       "      <th></th>\n",
       "      <th></th>\n",
       "    </tr>\n",
       "  </thead>\n",
       "  <tbody>\n",
       "    <tr>\n",
       "      <th>0</th>\n",
       "      <td>1.00000</td>\n",
       "      <td>3.809717</td>\n",
       "      <td>37.870445</td>\n",
       "      <td>52.973684</td>\n",
       "      <td>95.941296</td>\n",
       "      <td>0.105263</td>\n",
       "      <td>0.852227</td>\n",
       "      <td>77.941296</td>\n",
       "      <td>333.002024</td>\n",
       "      <td>9720.987854</td>\n",
       "    </tr>\n",
       "    <tr>\n",
       "      <th>1</th>\n",
       "      <td>26.50463</td>\n",
       "      <td>3.379630</td>\n",
       "      <td>29.421296</td>\n",
       "      <td>53.263889</td>\n",
       "      <td>131.842593</td>\n",
       "      <td>0.143519</td>\n",
       "      <td>0.777778</td>\n",
       "      <td>113.203704</td>\n",
       "      <td>509.351852</td>\n",
       "      <td>12750.694444</td>\n",
       "    </tr>\n",
       "  </tbody>\n",
       "</table>\n",
       "</div>"
      ],
      "text/plain": [
       "            min_req  prom_length      price  discount_pct  coupon_duration  \\\n",
       "treatment                                                                    \n",
       "0           1.00000     3.809717  37.870445     52.973684        95.941296   \n",
       "1          26.50463     3.379630  29.421296     53.263889       131.842593   \n",
       "\n",
       "           featured  limited_supply    fb_likes  quantity_sold       revenue  \n",
       "treatment                                                                     \n",
       "0          0.105263        0.852227   77.941296     333.002024   9720.987854  \n",
       "1          0.143519        0.777778  113.203704     509.351852  12750.694444  "
      ]
     },
     "execution_count": 11,
     "metadata": {},
     "output_type": "execute_result"
    }
   ],
   "source": [
    "# check the means for control and treatment\n",
    "df.groupby('treatment').mean()"
   ]
  },
  {
   "cell_type": "code",
   "execution_count": 12,
   "id": "573f80ff",
   "metadata": {
    "papermill": {
     "duration": 0.020357,
     "end_time": "2023-01-23T02:14:26.846370",
     "exception": false,
     "start_time": "2023-01-23T02:14:26.826013",
     "status": "completed"
    },
    "tags": []
   },
   "outputs": [],
   "source": [
    "# separate control and treatment for t-test\n",
    "df_control = df[df.treatment==0]\n",
    "df_treatment = df[df.treatment==1]"
   ]
  },
  {
   "cell_type": "code",
   "execution_count": 13,
   "id": "72dc5540",
   "metadata": {
    "papermill": {
     "duration": 0.026076,
     "end_time": "2023-01-23T02:14:26.882893",
     "exception": false,
     "start_time": "2023-01-23T02:14:26.856817",
     "status": "completed"
    },
    "tags": []
   },
   "outputs": [
    {
     "name": "stdout",
     "output_type": "stream",
     "text": [
      "9720.987854251012 12750.694444444445\n",
      "p=0.040\n",
      "different distributions/different group mean (reject H0)\n"
     ]
    }
   ],
   "source": [
    "# student's t-test for revenue (dependent variable)\n",
    "from scipy.stats import ttest_ind\n",
    "\n",
    "print(df_control.revenue.mean(), df_treatment.revenue.mean())\n",
    "\n",
    "# compare samples\n",
    "_, p = ttest_ind(df_control.revenue, df_treatment.revenue)\n",
    "print(f'p={p:.3f}')\n",
    "\n",
    "# interpret\n",
    "alpha = 0.05  # significance level\n",
    "if p > alpha:\n",
    "    print('same distributions/same group mean (fail to reject H0 - we do not have enough evidence to reject H0)')\n",
    "else:\n",
    "    print('different distributions/different group mean (reject H0)')"
   ]
  },
  {
   "cell_type": "code",
   "execution_count": 14,
   "id": "479fc82f",
   "metadata": {
    "papermill": {
     "duration": 0.023,
     "end_time": "2023-01-23T02:14:26.916012",
     "exception": false,
     "start_time": "2023-01-23T02:14:26.893012",
     "status": "completed"
    },
    "tags": []
   },
   "outputs": [
    {
     "name": "stdout",
     "output_type": "stream",
     "text": [
      "77.9412955465587 113.20370370370371\n",
      "p=0.004\n",
      "different distributions/different group mean (reject H0)\n"
     ]
    }
   ],
   "source": [
    "# student's t-test for facebook likes (dependent variable)\n",
    "from scipy.stats import ttest_ind\n",
    "\n",
    "print(df_control.fb_likes.mean(), df_treatment.fb_likes.mean())\n",
    "\n",
    "# compare samples\n",
    "_, p = ttest_ind(df_control.fb_likes, df_treatment.fb_likes)\n",
    "print(f'p={p:.3f}')\n",
    "\n",
    "# interpret\n",
    "alpha = 0.05  # significance level\n",
    "if p > alpha:\n",
    "    print('same distributions/same group mean (fail to reject H0 - we do not have enough evidence to reject H0)')\n",
    "else:\n",
    "    print('different distributions/different group mean (reject H0)')"
   ]
  },
  {
   "cell_type": "code",
   "execution_count": 15,
   "id": "5626a3f6",
   "metadata": {
    "papermill": {
     "duration": 0.025323,
     "end_time": "2023-01-23T02:14:26.952593",
     "exception": false,
     "start_time": "2023-01-23T02:14:26.927270",
     "status": "completed"
    },
    "tags": []
   },
   "outputs": [
    {
     "data": {
      "text/html": [
       "<div>\n",
       "<style scoped>\n",
       "    .dataframe tbody tr th:only-of-type {\n",
       "        vertical-align: middle;\n",
       "    }\n",
       "\n",
       "    .dataframe tbody tr th {\n",
       "        vertical-align: top;\n",
       "    }\n",
       "\n",
       "    .dataframe thead th {\n",
       "        text-align: right;\n",
       "    }\n",
       "</style>\n",
       "<table border=\"1\" class=\"dataframe\">\n",
       "  <thead>\n",
       "    <tr style=\"text-align: right;\">\n",
       "      <th></th>\n",
       "      <th>prom_length</th>\n",
       "      <th>price</th>\n",
       "      <th>discount_pct</th>\n",
       "      <th>coupon_duration</th>\n",
       "      <th>featured</th>\n",
       "      <th>limited_supply</th>\n",
       "    </tr>\n",
       "  </thead>\n",
       "  <tbody>\n",
       "    <tr>\n",
       "      <th>0</th>\n",
       "      <td>4</td>\n",
       "      <td>99</td>\n",
       "      <td>51</td>\n",
       "      <td>185</td>\n",
       "      <td>1</td>\n",
       "      <td>1</td>\n",
       "    </tr>\n",
       "    <tr>\n",
       "      <th>1</th>\n",
       "      <td>2</td>\n",
       "      <td>95</td>\n",
       "      <td>41</td>\n",
       "      <td>9</td>\n",
       "      <td>0</td>\n",
       "      <td>1</td>\n",
       "    </tr>\n",
       "    <tr>\n",
       "      <th>2</th>\n",
       "      <td>3</td>\n",
       "      <td>25</td>\n",
       "      <td>50</td>\n",
       "      <td>38</td>\n",
       "      <td>0</td>\n",
       "      <td>1</td>\n",
       "    </tr>\n",
       "    <tr>\n",
       "      <th>3</th>\n",
       "      <td>3</td>\n",
       "      <td>50</td>\n",
       "      <td>50</td>\n",
       "      <td>369</td>\n",
       "      <td>0</td>\n",
       "      <td>1</td>\n",
       "    </tr>\n",
       "    <tr>\n",
       "      <th>4</th>\n",
       "      <td>4</td>\n",
       "      <td>25</td>\n",
       "      <td>52</td>\n",
       "      <td>185</td>\n",
       "      <td>0</td>\n",
       "      <td>1</td>\n",
       "    </tr>\n",
       "  </tbody>\n",
       "</table>\n",
       "</div>"
      ],
      "text/plain": [
       "   prom_length  price  discount_pct  coupon_duration  featured  limited_supply\n",
       "0            4     99            51              185         1               1\n",
       "1            2     95            41                9         0               1\n",
       "2            3     25            50               38         0               1\n",
       "3            3     50            50              369         0               1\n",
       "4            4     25            52              185         0               1"
      ]
     },
     "execution_count": 15,
     "metadata": {},
     "output_type": "execute_result"
    }
   ],
   "source": [
    "# choose features for propensity score calculation\n",
    "X = df[['prom_length', 'price', 'discount_pct', 'coupon_duration', 'featured', 'limited_supply']]\n",
    "y = df['treatment']\n",
    "\n",
    "X.head()"
   ]
  },
  {
   "cell_type": "code",
   "execution_count": 16,
   "id": "b5e1ce91",
   "metadata": {
    "papermill": {
     "duration": 0.343893,
     "end_time": "2023-01-23T02:14:27.307036",
     "exception": false,
     "start_time": "2023-01-23T02:14:26.963143",
     "status": "completed"
    },
    "tags": []
   },
   "outputs": [
    {
     "data": {
      "text/html": [
       "<style>#sk-container-id-1 {color: black;background-color: white;}#sk-container-id-1 pre{padding: 0;}#sk-container-id-1 div.sk-toggleable {background-color: white;}#sk-container-id-1 label.sk-toggleable__label {cursor: pointer;display: block;width: 100%;margin-bottom: 0;padding: 0.3em;box-sizing: border-box;text-align: center;}#sk-container-id-1 label.sk-toggleable__label-arrow:before {content: \"▸\";float: left;margin-right: 0.25em;color: #696969;}#sk-container-id-1 label.sk-toggleable__label-arrow:hover:before {color: black;}#sk-container-id-1 div.sk-estimator:hover label.sk-toggleable__label-arrow:before {color: black;}#sk-container-id-1 div.sk-toggleable__content {max-height: 0;max-width: 0;overflow: hidden;text-align: left;background-color: #f0f8ff;}#sk-container-id-1 div.sk-toggleable__content pre {margin: 0.2em;color: black;border-radius: 0.25em;background-color: #f0f8ff;}#sk-container-id-1 input.sk-toggleable__control:checked~div.sk-toggleable__content {max-height: 200px;max-width: 100%;overflow: auto;}#sk-container-id-1 input.sk-toggleable__control:checked~label.sk-toggleable__label-arrow:before {content: \"▾\";}#sk-container-id-1 div.sk-estimator input.sk-toggleable__control:checked~label.sk-toggleable__label {background-color: #d4ebff;}#sk-container-id-1 div.sk-label input.sk-toggleable__control:checked~label.sk-toggleable__label {background-color: #d4ebff;}#sk-container-id-1 input.sk-hidden--visually {border: 0;clip: rect(1px 1px 1px 1px);clip: rect(1px, 1px, 1px, 1px);height: 1px;margin: -1px;overflow: hidden;padding: 0;position: absolute;width: 1px;}#sk-container-id-1 div.sk-estimator {font-family: monospace;background-color: #f0f8ff;border: 1px dotted black;border-radius: 0.25em;box-sizing: border-box;margin-bottom: 0.5em;}#sk-container-id-1 div.sk-estimator:hover {background-color: #d4ebff;}#sk-container-id-1 div.sk-parallel-item::after {content: \"\";width: 100%;border-bottom: 1px solid gray;flex-grow: 1;}#sk-container-id-1 div.sk-label:hover label.sk-toggleable__label {background-color: #d4ebff;}#sk-container-id-1 div.sk-serial::before {content: \"\";position: absolute;border-left: 1px solid gray;box-sizing: border-box;top: 0;bottom: 0;left: 50%;z-index: 0;}#sk-container-id-1 div.sk-serial {display: flex;flex-direction: column;align-items: center;background-color: white;padding-right: 0.2em;padding-left: 0.2em;position: relative;}#sk-container-id-1 div.sk-item {position: relative;z-index: 1;}#sk-container-id-1 div.sk-parallel {display: flex;align-items: stretch;justify-content: center;background-color: white;position: relative;}#sk-container-id-1 div.sk-item::before, #sk-container-id-1 div.sk-parallel-item::before {content: \"\";position: absolute;border-left: 1px solid gray;box-sizing: border-box;top: 0;bottom: 0;left: 50%;z-index: -1;}#sk-container-id-1 div.sk-parallel-item {display: flex;flex-direction: column;z-index: 1;position: relative;background-color: white;}#sk-container-id-1 div.sk-parallel-item:first-child::after {align-self: flex-end;width: 50%;}#sk-container-id-1 div.sk-parallel-item:last-child::after {align-self: flex-start;width: 50%;}#sk-container-id-1 div.sk-parallel-item:only-child::after {width: 0;}#sk-container-id-1 div.sk-dashed-wrapped {border: 1px dashed gray;margin: 0 0.4em 0.5em 0.4em;box-sizing: border-box;padding-bottom: 0.4em;background-color: white;}#sk-container-id-1 div.sk-label label {font-family: monospace;font-weight: bold;display: inline-block;line-height: 1.2em;}#sk-container-id-1 div.sk-label-container {text-align: center;}#sk-container-id-1 div.sk-container {/* jupyter's `normalize.less` sets `[hidden] { display: none; }` but bootstrap.min.css set `[hidden] { display: none !important; }` so we also need the `!important` here to be able to override the default hidden behavior on the sphinx rendered scikit-learn.org. See: https://github.com/scikit-learn/scikit-learn/issues/21755 */display: inline-block !important;position: relative;}#sk-container-id-1 div.sk-text-repr-fallback {display: none;}</style><div id=\"sk-container-id-1\" class=\"sk-top-container\"><div class=\"sk-text-repr-fallback\"><pre>LogisticRegression()</pre><b>In a Jupyter environment, please rerun this cell to show the HTML representation or trust the notebook. <br />On GitHub, the HTML representation is unable to render, please try loading this page with nbviewer.org.</b></div><div class=\"sk-container\" hidden><div class=\"sk-item\"><div class=\"sk-estimator sk-toggleable\"><input class=\"sk-toggleable__control sk-hidden--visually\" id=\"sk-estimator-id-1\" type=\"checkbox\" checked><label for=\"sk-estimator-id-1\" class=\"sk-toggleable__label sk-toggleable__label-arrow\">LogisticRegression</label><div class=\"sk-toggleable__content\"><pre>LogisticRegression()</pre></div></div></div></div></div>"
      ],
      "text/plain": [
       "LogisticRegression()"
      ]
     },
     "execution_count": 16,
     "metadata": {},
     "output_type": "execute_result"
    }
   ],
   "source": [
    "# use logistic regression to calculate the propensity scores\n",
    "from sklearn.linear_model import LogisticRegression\n",
    "lr = LogisticRegression()\n",
    "lr.fit(X, y)"
   ]
  },
  {
   "cell_type": "code",
   "execution_count": 17,
   "id": "abd49f3b",
   "metadata": {
    "papermill": {
     "duration": 0.021052,
     "end_time": "2023-01-23T02:14:27.339188",
     "exception": false,
     "start_time": "2023-01-23T02:14:27.318136",
     "status": "completed"
    },
    "tags": []
   },
   "outputs": [
    {
     "data": {
      "text/plain": [
       "array([-0.32837154, -0.00859709, -0.00794034,  0.00352025,  0.30799334,\n",
       "       -0.36649851])"
      ]
     },
     "execution_count": 17,
     "metadata": {},
     "output_type": "execute_result"
    }
   ],
   "source": [
    "# get the coefficients \n",
    "lr.coef_.ravel()  # or reshape(-1) refers to an unknown dimension, often used to flatten the array"
   ]
  },
  {
   "cell_type": "code",
   "execution_count": 18,
   "id": "8bef8ef1",
   "metadata": {
    "papermill": {
     "duration": 0.020702,
     "end_time": "2023-01-23T02:14:27.370930",
     "exception": false,
     "start_time": "2023-01-23T02:14:27.350228",
     "status": "completed"
    },
    "tags": []
   },
   "outputs": [
    {
     "data": {
      "text/plain": [
       "array(['prom_length', 'price', 'discount_pct', 'coupon_duration',\n",
       "       'featured', 'limited_supply'], dtype=object)"
      ]
     },
     "execution_count": 18,
     "metadata": {},
     "output_type": "execute_result"
    }
   ],
   "source": [
    "# get the feature names\n",
    "X.columns.to_numpy()"
   ]
  },
  {
   "cell_type": "code",
   "execution_count": 19,
   "id": "18a56591",
   "metadata": {
    "papermill": {
     "duration": 0.025707,
     "end_time": "2023-01-23T02:14:27.407396",
     "exception": false,
     "start_time": "2023-01-23T02:14:27.381689",
     "status": "completed"
    },
    "tags": []
   },
   "outputs": [
    {
     "data": {
      "text/html": [
       "<div>\n",
       "<style scoped>\n",
       "    .dataframe tbody tr th:only-of-type {\n",
       "        vertical-align: middle;\n",
       "    }\n",
       "\n",
       "    .dataframe tbody tr th {\n",
       "        vertical-align: top;\n",
       "    }\n",
       "\n",
       "    .dataframe thead th {\n",
       "        text-align: right;\n",
       "    }\n",
       "</style>\n",
       "<table border=\"1\" class=\"dataframe\">\n",
       "  <thead>\n",
       "    <tr style=\"text-align: right;\">\n",
       "      <th></th>\n",
       "      <th>column</th>\n",
       "      <th>coeff</th>\n",
       "    </tr>\n",
       "  </thead>\n",
       "  <tbody>\n",
       "    <tr>\n",
       "      <th>0</th>\n",
       "      <td>prom_length</td>\n",
       "      <td>-0.328372</td>\n",
       "    </tr>\n",
       "    <tr>\n",
       "      <th>1</th>\n",
       "      <td>price</td>\n",
       "      <td>-0.008597</td>\n",
       "    </tr>\n",
       "    <tr>\n",
       "      <th>2</th>\n",
       "      <td>discount_pct</td>\n",
       "      <td>-0.007940</td>\n",
       "    </tr>\n",
       "    <tr>\n",
       "      <th>3</th>\n",
       "      <td>coupon_duration</td>\n",
       "      <td>0.003520</td>\n",
       "    </tr>\n",
       "    <tr>\n",
       "      <th>4</th>\n",
       "      <td>featured</td>\n",
       "      <td>0.307993</td>\n",
       "    </tr>\n",
       "    <tr>\n",
       "      <th>5</th>\n",
       "      <td>limited_supply</td>\n",
       "      <td>-0.366499</td>\n",
       "    </tr>\n",
       "  </tbody>\n",
       "</table>\n",
       "</div>"
      ],
      "text/plain": [
       "            column     coeff\n",
       "0      prom_length -0.328372\n",
       "1            price -0.008597\n",
       "2     discount_pct -0.007940\n",
       "3  coupon_duration  0.003520\n",
       "4         featured  0.307993\n",
       "5   limited_supply -0.366499"
      ]
     },
     "execution_count": 19,
     "metadata": {},
     "output_type": "execute_result"
    }
   ],
   "source": [
    "# combine features and coefficients into a dataframe\n",
    "coeffs = pd.DataFrame({\n",
    "    'column':X.columns.to_numpy(),\n",
    "    'coeff':lr.coef_.ravel(),\n",
    "})\n",
    "coeffs"
   ]
  },
  {
   "cell_type": "code",
   "execution_count": 20,
   "id": "61c1ee47",
   "metadata": {
    "papermill": {
     "duration": 0.023868,
     "end_time": "2023-01-23T02:14:27.442881",
     "exception": false,
     "start_time": "2023-01-23T02:14:27.419013",
     "status": "completed"
    },
    "tags": []
   },
   "outputs": [
    {
     "name": "stdout",
     "output_type": "stream",
     "text": [
      "the binary prediction is: 0\n",
      "the corresponding probabilities are: [0.74080763 0.25919237]\n"
     ]
    }
   ],
   "source": [
    "# prediction\n",
    "pred_binary = lr.predict(X)  # binary 0 control, 1, treatment\n",
    "pred_prob = lr.predict_proba(X)  # probabilities for classes\n",
    "\n",
    "print('the binary prediction is:', pred_binary[0])\n",
    "print('the corresponding probabilities are:', pred_prob[0])"
   ]
  },
  {
   "cell_type": "code",
   "execution_count": 21,
   "id": "a09b9049",
   "metadata": {
    "papermill": {
     "duration": 0.033972,
     "end_time": "2023-01-23T02:14:27.487737",
     "exception": false,
     "start_time": "2023-01-23T02:14:27.453765",
     "status": "completed"
    },
    "tags": []
   },
   "outputs": [
    {
     "data": {
      "text/html": [
       "<div>\n",
       "<style scoped>\n",
       "    .dataframe tbody tr th:only-of-type {\n",
       "        vertical-align: middle;\n",
       "    }\n",
       "\n",
       "    .dataframe tbody tr th {\n",
       "        vertical-align: top;\n",
       "    }\n",
       "\n",
       "    .dataframe thead th {\n",
       "        text-align: right;\n",
       "    }\n",
       "</style>\n",
       "<table border=\"1\" class=\"dataframe\">\n",
       "  <thead>\n",
       "    <tr style=\"text-align: right;\">\n",
       "      <th></th>\n",
       "      <th>deal_id</th>\n",
       "      <th>start_date</th>\n",
       "      <th>min_req</th>\n",
       "      <th>treatment</th>\n",
       "      <th>prom_length</th>\n",
       "      <th>price</th>\n",
       "      <th>discount_pct</th>\n",
       "      <th>coupon_duration</th>\n",
       "      <th>featured</th>\n",
       "      <th>limited_supply</th>\n",
       "      <th>fb_likes</th>\n",
       "      <th>quantity_sold</th>\n",
       "      <th>revenue</th>\n",
       "      <th>ps</th>\n",
       "      <th>ps_logit</th>\n",
       "    </tr>\n",
       "  </thead>\n",
       "  <tbody>\n",
       "    <tr>\n",
       "      <th>0</th>\n",
       "      <td>heli-flights</td>\n",
       "      <td>9/23/2011</td>\n",
       "      <td>10</td>\n",
       "      <td>1</td>\n",
       "      <td>4</td>\n",
       "      <td>99</td>\n",
       "      <td>51</td>\n",
       "      <td>185</td>\n",
       "      <td>1</td>\n",
       "      <td>1</td>\n",
       "      <td>290</td>\n",
       "      <td>540</td>\n",
       "      <td>53460</td>\n",
       "      <td>0.259192</td>\n",
       "      <td>-1.050170</td>\n",
       "    </tr>\n",
       "    <tr>\n",
       "      <th>1</th>\n",
       "      <td>gl-champion-series-tennis-electric-factory</td>\n",
       "      <td>9/23/2011</td>\n",
       "      <td>20</td>\n",
       "      <td>1</td>\n",
       "      <td>2</td>\n",
       "      <td>95</td>\n",
       "      <td>41</td>\n",
       "      <td>9</td>\n",
       "      <td>0</td>\n",
       "      <td>1</td>\n",
       "      <td>43</td>\n",
       "      <td>190</td>\n",
       "      <td>18050</td>\n",
       "      <td>0.230198</td>\n",
       "      <td>-1.207193</td>\n",
       "    </tr>\n",
       "    <tr>\n",
       "      <th>2</th>\n",
       "      <td>realm-of-terror-horror-experience</td>\n",
       "      <td>9/23/2011</td>\n",
       "      <td>50</td>\n",
       "      <td>1</td>\n",
       "      <td>3</td>\n",
       "      <td>25</td>\n",
       "      <td>50</td>\n",
       "      <td>38</td>\n",
       "      <td>0</td>\n",
       "      <td>1</td>\n",
       "      <td>208</td>\n",
       "      <td>380</td>\n",
       "      <td>9500</td>\n",
       "      <td>0.288405</td>\n",
       "      <td>-0.903144</td>\n",
       "    </tr>\n",
       "    <tr>\n",
       "      <th>3</th>\n",
       "      <td>newport-gourmet</td>\n",
       "      <td>9/23/2011</td>\n",
       "      <td>15</td>\n",
       "      <td>1</td>\n",
       "      <td>3</td>\n",
       "      <td>50</td>\n",
       "      <td>50</td>\n",
       "      <td>369</td>\n",
       "      <td>0</td>\n",
       "      <td>1</td>\n",
       "      <td>16</td>\n",
       "      <td>90</td>\n",
       "      <td>4500</td>\n",
       "      <td>0.511781</td>\n",
       "      <td>0.047131</td>\n",
       "    </tr>\n",
       "    <tr>\n",
       "      <th>4</th>\n",
       "      <td>the-clayroom</td>\n",
       "      <td>9/23/2011</td>\n",
       "      <td>20</td>\n",
       "      <td>1</td>\n",
       "      <td>4</td>\n",
       "      <td>25</td>\n",
       "      <td>52</td>\n",
       "      <td>185</td>\n",
       "      <td>0</td>\n",
       "      <td>1</td>\n",
       "      <td>85</td>\n",
       "      <td>580</td>\n",
       "      <td>14500</td>\n",
       "      <td>0.325212</td>\n",
       "      <td>-0.729920</td>\n",
       "    </tr>\n",
       "  </tbody>\n",
       "</table>\n",
       "</div>"
      ],
      "text/plain": [
       "                                      deal_id start_date  min_req  treatment  \\\n",
       "0                                heli-flights  9/23/2011       10          1   \n",
       "1  gl-champion-series-tennis-electric-factory  9/23/2011       20          1   \n",
       "2           realm-of-terror-horror-experience  9/23/2011       50          1   \n",
       "3                             newport-gourmet  9/23/2011       15          1   \n",
       "4                                the-clayroom  9/23/2011       20          1   \n",
       "\n",
       "   prom_length  price  discount_pct  coupon_duration  featured  \\\n",
       "0            4     99            51              185         1   \n",
       "1            2     95            41                9         0   \n",
       "2            3     25            50               38         0   \n",
       "3            3     50            50              369         0   \n",
       "4            4     25            52              185         0   \n",
       "\n",
       "   limited_supply  fb_likes  quantity_sold  revenue        ps  ps_logit  \n",
       "0               1       290            540    53460  0.259192 -1.050170  \n",
       "1               1        43            190    18050  0.230198 -1.207193  \n",
       "2               1       208            380     9500  0.288405 -0.903144  \n",
       "3               1        16             90     4500  0.511781  0.047131  \n",
       "4               1        85            580    14500  0.325212 -0.729920  "
      ]
     },
     "execution_count": 21,
     "metadata": {},
     "output_type": "execute_result"
    }
   ],
   "source": [
    "# the propensity score (ps) is the probability of being 1 (i.e., in the treatment group)\n",
    "df['ps'] = pred_prob[:, 1]\n",
    "\n",
    "# calculate the logit of the propensity score for matching if needed\n",
    "# I just use the propensity score to match in this tutorial\n",
    "def logit(p):\n",
    "    logit_value = math.log(p / (1-p))\n",
    "    return logit_value\n",
    "\n",
    "df['ps_logit'] = df.ps.apply(lambda x: logit(x))\n",
    "\n",
    "df.head()\n"
   ]
  },
  {
   "cell_type": "code",
   "execution_count": 22,
   "id": "ba7de3fe",
   "metadata": {
    "papermill": {
     "duration": 0.458243,
     "end_time": "2023-01-23T02:14:27.957159",
     "exception": false,
     "start_time": "2023-01-23T02:14:27.498916",
     "status": "completed"
    },
    "tags": []
   },
   "outputs": [
    {
     "data": {
      "text/plain": [
       "<AxesSubplot:xlabel='ps', ylabel='Count'>"
      ]
     },
     "execution_count": 22,
     "metadata": {},
     "output_type": "execute_result"
    },
    {
     "data": {
      "image/png": "[encoded data removed]",
      "text/plain": [
       "<Figure size 432x288 with 1 Axes>"
      ]
     },
     "metadata": {
      "needs_background": "light"
     },
     "output_type": "display_data"
    }
   ],
   "source": [
    "# check the overlap of ps for control and treatment using histogram\n",
    "# if not much overlap, the matching won't work\n",
    "sns.histplot(data=df, x='ps', hue='treatment')  # multiple=\"dodge\" for "
   ]
  },
  {
   "cell_type": "code",
   "execution_count": 23,
   "id": "017315ca",
   "metadata": {
    "papermill": {
     "duration": 0.383262,
     "end_time": "2023-01-23T02:14:28.352238",
     "exception": false,
     "start_time": "2023-01-23T02:14:27.968976",
     "status": "completed"
    },
    "tags": []
   },
   "outputs": [
    {
     "data": {
      "text/plain": [
       "<AxesSubplot:xlabel='ps1', ylabel='Count'>"
      ]
     },
     "execution_count": 23,
     "metadata": {},
     "output_type": "execute_result"
    },
    {
     "data": {
      "image/png": "[encoded data removed]",
      "text/plain": [
       "<Figure size 432x288 with 1 Axes>"
      ]
     },
     "metadata": {
      "needs_background": "light"
     },
     "output_type": "display_data"
    }
   ],
   "source": [
    "# adding 'min_req' here makes matching not working - because treatment is derived from min_req\n",
    "# there is no overlap and thus matching will not work\n",
    "X1 = df[['min_req', 'prom_length', 'price', 'discount_pct', 'coupon_duration', 'featured','limited_supply']]\n",
    "y = df['treatment']\n",
    "\n",
    "# use logistic regression to calculate the propensity scores\n",
    "lr1 = LogisticRegression(max_iter=1000)\n",
    "lr1.fit(X1, y)\n",
    "\n",
    "pred_prob1 = lr1.predict_proba(X1)  # probabilities for classes\n",
    "df['ps1'] = pred_prob1[:, 1]\n",
    "\n",
    "sns.histplot(data=df, x='ps1', hue='treatment')"
   ]
  },
  {
   "cell_type": "code",
   "execution_count": 24,
   "id": "77df9eb9",
   "metadata": {
    "papermill": {
     "duration": 0.574263,
     "end_time": "2023-01-23T02:14:28.938464",
     "exception": false,
     "start_time": "2023-01-23T02:14:28.364201",
     "status": "completed"
    },
    "tags": []
   },
   "outputs": [
    {
     "data": {
      "text/plain": [
       "<AxesSubplot:xlabel='start_date', ylabel='revenue'>"
      ]
     },
     "execution_count": 24,
     "metadata": {},
     "output_type": "execute_result"
    },
    {
     "data": {
      "image/png": "[encoded data removed]",
      "text/plain": [
       "<Figure size 1440x720 with 1 Axes>"
      ]
     },
     "metadata": {
      "needs_background": "light"
     },
     "output_type": "display_data"
    }
   ],
   "source": [
    "# stating date can also determine treatment value for most cases\n",
    "# so we do not include it in the propensity score calculation\n",
    "df.start_date = pd.to_datetime(df.start_date)\n",
    "fig, ax = plt.subplots(figsize=(20, 10))\n",
    "sns.scatterplot(data=df, x='start_date', y='revenue', hue='treatment')"
   ]
  },
  {
   "cell_type": "code",
   "execution_count": 25,
   "id": "d4e2a134",
   "metadata": {
    "papermill": {
     "duration": 0.395499,
     "end_time": "2023-01-23T02:14:29.348104",
     "exception": false,
     "start_time": "2023-01-23T02:14:28.952605",
     "status": "completed"
    },
    "tags": []
   },
   "outputs": [
    {
     "data": {
      "text/plain": [
       "<AxesSubplot:xlabel='ps2', ylabel='Count'>"
      ]
     },
     "execution_count": 25,
     "metadata": {},
     "output_type": "execute_result"
    },
    {
     "data": {
      "image/png": "[encoded data removed]",
      "text/plain": [
       "<Figure size 432x288 with 1 Axes>"
      ]
     },
     "metadata": {
      "needs_background": "light"
     },
     "output_type": "display_data"
    }
   ],
   "source": [
    "# adding 'starting_date' here via a `recency` feature\n",
    "# there is only little overlap resulting in not enough matched observations\n",
    "\n",
    "last_date = df.start_date.max()\n",
    "df['recency'] = (last_date - df.start_date).dt.days\n",
    "\n",
    "X2 = df[['recency', 'prom_length', 'price', 'discount_pct', 'coupon_duration', 'featured','limited_supply']]\n",
    "y = df['treatment']\n",
    "\n",
    "# use logistic regression to calculate the propensity scores\n",
    "lr2 = LogisticRegression(max_iter=1000)\n",
    "lr2.fit(X2, y)\n",
    "\n",
    "pred_prob2 = lr2.predict_proba(X2)  # probabilities for classes\n",
    "df['ps2'] = pred_prob2[:, 1]\n",
    "\n",
    "sns.histplot(data=df, x='ps2', hue='treatment')"
   ]
  },
  {
   "cell_type": "code",
   "execution_count": 26,
   "id": "8aa5483d",
   "metadata": {
    "papermill": {
     "duration": 0.083524,
     "end_time": "2023-01-23T02:14:29.445663",
     "exception": false,
     "start_time": "2023-01-23T02:14:29.362139",
     "status": "completed"
    },
    "tags": []
   },
   "outputs": [
    {
     "name": "stdout",
     "output_type": "stream",
     "text": [
      "caliper (radius) is: 0.0304\n"
     ]
    },
    {
     "data": {
      "text/html": [
       "<style>#sk-container-id-2 {color: black;background-color: white;}#sk-container-id-2 pre{padding: 0;}#sk-container-id-2 div.sk-toggleable {background-color: white;}#sk-container-id-2 label.sk-toggleable__label {cursor: pointer;display: block;width: 100%;margin-bottom: 0;padding: 0.3em;box-sizing: border-box;text-align: center;}#sk-container-id-2 label.sk-toggleable__label-arrow:before {content: \"▸\";float: left;margin-right: 0.25em;color: #696969;}#sk-container-id-2 label.sk-toggleable__label-arrow:hover:before {color: black;}#sk-container-id-2 div.sk-estimator:hover label.sk-toggleable__label-arrow:before {color: black;}#sk-container-id-2 div.sk-toggleable__content {max-height: 0;max-width: 0;overflow: hidden;text-align: left;background-color: #f0f8ff;}#sk-container-id-2 div.sk-toggleable__content pre {margin: 0.2em;color: black;border-radius: 0.25em;background-color: #f0f8ff;}#sk-container-id-2 input.sk-toggleable__control:checked~div.sk-toggleable__content {max-height: 200px;max-width: 100%;overflow: auto;}#sk-container-id-2 input.sk-toggleable__control:checked~label.sk-toggleable__label-arrow:before {content: \"▾\";}#sk-container-id-2 div.sk-estimator input.sk-toggleable__control:checked~label.sk-toggleable__label {background-color: #d4ebff;}#sk-container-id-2 div.sk-label input.sk-toggleable__control:checked~label.sk-toggleable__label {background-color: #d4ebff;}#sk-container-id-2 input.sk-hidden--visually {border: 0;clip: rect(1px 1px 1px 1px);clip: rect(1px, 1px, 1px, 1px);height: 1px;margin: -1px;overflow: hidden;padding: 0;position: absolute;width: 1px;}#sk-container-id-2 div.sk-estimator {font-family: monospace;background-color: #f0f8ff;border: 1px dotted black;border-radius: 0.25em;box-sizing: border-box;margin-bottom: 0.5em;}#sk-container-id-2 div.sk-estimator:hover {background-color: #d4ebff;}#sk-container-id-2 div.sk-parallel-item::after {content: \"\";width: 100%;border-bottom: 1px solid gray;flex-grow: 1;}#sk-container-id-2 div.sk-label:hover label.sk-toggleable__label {background-color: #d4ebff;}#sk-container-id-2 div.sk-serial::before {content: \"\";position: absolute;border-left: 1px solid gray;box-sizing: border-box;top: 0;bottom: 0;left: 50%;z-index: 0;}#sk-container-id-2 div.sk-serial {display: flex;flex-direction: column;align-items: center;background-color: white;padding-right: 0.2em;padding-left: 0.2em;position: relative;}#sk-container-id-2 div.sk-item {position: relative;z-index: 1;}#sk-container-id-2 div.sk-parallel {display: flex;align-items: stretch;justify-content: center;background-color: white;position: relative;}#sk-container-id-2 div.sk-item::before, #sk-container-id-2 div.sk-parallel-item::before {content: \"\";position: absolute;border-left: 1px solid gray;box-sizing: border-box;top: 0;bottom: 0;left: 50%;z-index: -1;}#sk-container-id-2 div.sk-parallel-item {display: flex;flex-direction: column;z-index: 1;position: relative;background-color: white;}#sk-container-id-2 div.sk-parallel-item:first-child::after {align-self: flex-end;width: 50%;}#sk-container-id-2 div.sk-parallel-item:last-child::after {align-self: flex-start;width: 50%;}#sk-container-id-2 div.sk-parallel-item:only-child::after {width: 0;}#sk-container-id-2 div.sk-dashed-wrapped {border: 1px dashed gray;margin: 0 0.4em 0.5em 0.4em;box-sizing: border-box;padding-bottom: 0.4em;background-color: white;}#sk-container-id-2 div.sk-label label {font-family: monospace;font-weight: bold;display: inline-block;line-height: 1.2em;}#sk-container-id-2 div.sk-label-container {text-align: center;}#sk-container-id-2 div.sk-container {/* jupyter's `normalize.less` sets `[hidden] { display: none; }` but bootstrap.min.css set `[hidden] { display: none !important; }` so we also need the `!important` here to be able to override the default hidden behavior on the sphinx rendered scikit-learn.org. See: https://github.com/scikit-learn/scikit-learn/issues/21755 */display: inline-block !important;position: relative;}#sk-container-id-2 div.sk-text-repr-fallback {display: none;}</style><div id=\"sk-container-id-2\" class=\"sk-top-container\"><div class=\"sk-text-repr-fallback\"><pre>NearestNeighbors(n_neighbors=10, radius=0.030379111875710907)</pre><b>In a Jupyter environment, please rerun this cell to show the HTML representation or trust the notebook. <br />On GitHub, the HTML representation is unable to render, please try loading this page with nbviewer.org.</b></div><div class=\"sk-container\" hidden><div class=\"sk-item\"><div class=\"sk-estimator sk-toggleable\"><input class=\"sk-toggleable__control sk-hidden--visually\" id=\"sk-estimator-id-2\" type=\"checkbox\" checked><label for=\"sk-estimator-id-2\" class=\"sk-toggleable__label sk-toggleable__label-arrow\">NearestNeighbors</label><div class=\"sk-toggleable__content\"><pre>NearestNeighbors(n_neighbors=10, radius=0.030379111875710907)</pre></div></div></div></div></div>"
      ],
      "text/plain": [
       "NearestNeighbors(n_neighbors=10, radius=0.030379111875710907)"
      ]
     },
     "execution_count": 26,
     "metadata": {},
     "output_type": "execute_result"
    }
   ],
   "source": [
    "# use 25% of standard deviation of the propensity score as the caliper/radius\n",
    "# get the k closest neighbors for each observations\n",
    "# relax caliper and increase k can provide more matches\n",
    "\n",
    "from sklearn.neighbors import NearestNeighbors\n",
    "\n",
    "caliper = np.std(df.ps) * 0.25\n",
    "print(f'caliper (radius) is: {caliper:.4f}')\n",
    "\n",
    "n_neighbors = 10\n",
    "\n",
    "# setup knn\n",
    "knn = NearestNeighbors(n_neighbors=n_neighbors, radius=caliper)\n",
    "\n",
    "ps = df[['ps']]  # double brackets as a dataframe\n",
    "knn.fit(ps)"
   ]
  },
  {
   "cell_type": "code",
   "execution_count": 27,
   "id": "b9a936ef",
   "metadata": {
    "papermill": {
     "duration": 0.028153,
     "end_time": "2023-01-23T02:14:29.488053",
     "exception": false,
     "start_time": "2023-01-23T02:14:29.459900",
     "status": "completed"
    },
    "tags": []
   },
   "outputs": [
    {
     "name": "stdout",
     "output_type": "stream",
     "text": [
      "(710, 10)\n",
      "[0.         0.0001079  0.00040659 0.00078181 0.00115845 0.00135225\n",
      " 0.00135225 0.00164921 0.0016695  0.00203837]\n",
      "[  0 348 388 415 624 494 150 463 372 345]\n"
     ]
    }
   ],
   "source": [
    "# distances and indexes\n",
    "distances, neighbor_indexes = knn.kneighbors(ps)\n",
    "\n",
    "print(neighbor_indexes.shape)\n",
    "\n",
    "# the 10 closest points to the first point\n",
    "print(distances[0])\n",
    "print(neighbor_indexes[0])"
   ]
  },
  {
   "cell_type": "code",
   "execution_count": 28,
   "id": "1f25977c",
   "metadata": {
    "papermill": {
     "duration": 0.389775,
     "end_time": "2023-01-23T02:14:29.891967",
     "exception": false,
     "start_time": "2023-01-23T02:14:29.502192",
     "status": "completed"
    },
    "tags": []
   },
   "outputs": [],
   "source": [
    "# for each point in treatment, we find a matching point in control without replacement\n",
    "# note the 10 neighbors may include both points in treatment and control\n",
    "\n",
    "matched_control = []  # keep track of the matched observations in control\n",
    "\n",
    "for current_index, row in df.iterrows():  # iterate over the dataframe\n",
    "    if row.treatment == 0:  # the current row is in the control group\n",
    "        df.loc[current_index, 'matched'] = np.nan  # set matched to nan\n",
    "    else: \n",
    "        for idx in neighbor_indexes[current_index, :]: # for each row in treatment, find the k neighbors\n",
    "            # make sure the current row is not the idx - don't match to itself\n",
    "            # and the neighbor is in the control \n",
    "            if (current_index != idx) and (df.loc[idx].treatment == 0):\n",
    "                if idx not in matched_control:  # this control has not been matched yet\n",
    "                    df.loc[current_index, 'matched'] = idx  # record the matching\n",
    "                    matched_control.append(idx)  # add the matched to the list\n",
    "                    break"
   ]
  },
  {
   "cell_type": "code",
   "execution_count": 29,
   "id": "f9beb3eb",
   "metadata": {
    "papermill": {
     "duration": 0.025028,
     "end_time": "2023-01-23T02:14:29.931024",
     "exception": false,
     "start_time": "2023-01-23T02:14:29.905996",
     "status": "completed"
    },
    "tags": []
   },
   "outputs": [
    {
     "name": "stdout",
     "output_type": "stream",
     "text": [
      "total observations in treatment: 216\n",
      "total matched observations in control: 185\n"
     ]
    }
   ],
   "source": [
    "# try to increase the number of neighbors and/or caliper to get more matches\n",
    "print('total observations in treatment:', len(df[df.treatment==1]))\n",
    "print('total matched observations in control:', len(matched_control))"
   ]
  },
  {
   "cell_type": "code",
   "execution_count": 30,
   "id": "b0ca46e6",
   "metadata": {
    "papermill": {
     "duration": 0.034506,
     "end_time": "2023-01-23T02:14:29.979662",
     "exception": false,
     "start_time": "2023-01-23T02:14:29.945156",
     "status": "completed"
    },
    "tags": []
   },
   "outputs": [
    {
     "data": {
      "text/plain": [
       "1    185\n",
       "0    185\n",
       "Name: treatment, dtype: int64"
      ]
     },
     "execution_count": 30,
     "metadata": {},
     "output_type": "execute_result"
    }
   ],
   "source": [
    "# control have no match\n",
    "treatment_matched = df.dropna(subset=['matched'])  # drop not matched\n",
    "\n",
    "# matched control observation indexes\n",
    "control_matched_idx = treatment_matched.matched\n",
    "control_matched_idx = control_matched_idx.astype(int)  # change to int\n",
    "control_matched = df.loc[control_matched_idx, :]  # select matched control observations\n",
    "\n",
    "# combine the matched treatment and control\n",
    "df_matched = pd.concat([treatment_matched, control_matched])\n",
    "\n",
    "df_matched.treatment.value_counts()"
   ]
  },
  {
   "cell_type": "code",
   "execution_count": 31,
   "id": "8a9af767",
   "metadata": {
    "papermill": {
     "duration": 0.024776,
     "end_time": "2023-01-23T02:14:30.018732",
     "exception": false,
     "start_time": "2023-01-23T02:14:29.993956",
     "status": "completed"
    },
    "tags": []
   },
   "outputs": [],
   "source": [
    "# matched control and treatment\n",
    "df_matched_control = df_matched[df_matched.treatment==0]\n",
    "df_matched_treatment = df_matched[df_matched.treatment==1]"
   ]
  },
  {
   "cell_type": "code",
   "execution_count": 32,
   "id": "f5fab299",
   "metadata": {
    "papermill": {
     "duration": 0.028163,
     "end_time": "2023-01-23T02:14:30.061725",
     "exception": false,
     "start_time": "2023-01-23T02:14:30.033562",
     "status": "completed"
    },
    "tags": []
   },
   "outputs": [
    {
     "name": "stdout",
     "output_type": "stream",
     "text": [
      "9146.783783783783 13275.405405405405\n",
      "p=0.051\n",
      "same distributions/same group mean (fail to reject H0 - we do not have enough evidence to reject H0)\n"
     ]
    }
   ],
   "source": [
    "# student's t-test for revenue (dependent variable) after matching\n",
    "# p value is not significant now\n",
    "from scipy.stats import ttest_ind\n",
    "print(df_matched_control.revenue.mean(), df_matched_treatment.revenue.mean())\n",
    "\n",
    "# compare samples\n",
    "_, p = ttest_ind(df_matched_control.revenue, df_matched_treatment.revenue)\n",
    "print(f'p={p:.3f}')\n",
    "\n",
    "# interpret\n",
    "alpha = 0.05  # significance level\n",
    "if p > alpha:\n",
    "    print('same distributions/same group mean (fail to reject H0 - we do not have enough evidence to reject H0)')\n",
    "else:\n",
    "    print('different distributions/different group mean (reject H0)')"
   ]
  },
  {
   "cell_type": "code",
   "execution_count": 33,
   "id": "36807f1b",
   "metadata": {
    "papermill": {
     "duration": 0.026974,
     "end_time": "2023-01-23T02:14:30.104654",
     "exception": false,
     "start_time": "2023-01-23T02:14:30.077680",
     "status": "completed"
    },
    "tags": []
   },
   "outputs": [
    {
     "name": "stdout",
     "output_type": "stream",
     "text": [
      "68.0 115.75135135135135\n",
      "p=0.002\n",
      "different distributions/different group mean (reject H0)\n"
     ]
    }
   ],
   "source": [
    "# student's t-test for facebook likes(dependent variable) after matching\n",
    "# p value is smaller compared with before matching\n",
    "from scipy.stats import ttest_ind\n",
    "print(df_matched_control.fb_likes.mean(), df_matched_treatment.fb_likes.mean())\n",
    "\n",
    "# compare samples\n",
    "_, p = ttest_ind(df_matched_control.fb_likes, df_matched_treatment.fb_likes)\n",
    "print(f'p={p:.3f}')\n",
    "\n",
    "# interpret\n",
    "alpha = 0.05  # significance level\n",
    "if p > alpha:\n",
    "    print('same distributions/same group mean (fail to reject H0 - we do not have enough evidence to reject H0)')\n",
    "else:\n",
    "    print('different distributions/different group mean (reject H0)')"
   ]
  },
  {
   "cell_type": "code",
   "execution_count": 34,
   "id": "1d857747",
   "metadata": {
    "papermill": {
     "duration": 0.024048,
     "end_time": "2023-01-23T02:14:30.142979",
     "exception": false,
     "start_time": "2023-01-23T02:14:30.118931",
     "status": "completed"
    },
    "tags": []
   },
   "outputs": [],
   "source": [
    "# As an effect size, Cohen's d is typically used to represent the magnitude of differences between two (or more) groups on a given variable, with larger values representing a greater differentiation between the two groups on that variable.\n",
    "# we hope the effect sizes for features decrease after matching\n",
    "# adapted from https://machinelearningmastery.com/effect-size-measures-in-python/\n",
    "\n",
    "from numpy import mean\n",
    "from numpy import var\n",
    "from math import sqrt\n",
    " \n",
    "# function to calculate Cohen's d for independent samples\n",
    "def cohen_d(d1, d2):\n",
    "\t# calculate the size of samples\n",
    "\tn1, n2 = len(d1), len(d2)\n",
    "\t# calculate the variance of the samples\n",
    "\ts1, s2 = var(d1, ddof=1), var(d2, ddof=1)\n",
    "\t# calculate the pooled standard deviation\n",
    "\ts = sqrt(((n1 - 1) * s1 + (n2 - 1) * s2) / (n1 + n2 - 2))\n",
    "\t# calculate the means of the samples\n",
    "\tu1, u2 = mean(d1), mean(d2)\n",
    "\t# calculate the effect size\n",
    "\treturn (u1 - u2) / s"
   ]
  },
  {
   "cell_type": "code",
   "execution_count": 35,
   "id": "bfae1c75",
   "metadata": {
    "papermill": {
     "duration": 0.037458,
     "end_time": "2023-01-23T02:14:30.194978",
     "exception": false,
     "start_time": "2023-01-23T02:14:30.157520",
     "status": "completed"
    },
    "tags": []
   },
   "outputs": [],
   "source": [
    "effect_sizes = []\n",
    "cols = ['prom_length', 'price', 'discount_pct', 'coupon_duration', 'featured','limited_supply']\n",
    "\n",
    "for cl in cols:\n",
    "    _, p_before = ttest_ind(df_control[cl], df_treatment[cl])\n",
    "    _, p_after = ttest_ind(df_matched_control[cl], df_matched_treatment[cl])\n",
    "    cohen_d_before = cohen_d(df_treatment[cl], df_control[cl])\n",
    "    cohen_d_after = cohen_d(df_matched_treatment[cl], df_matched_control[cl])\n",
    "    effect_sizes.append([cl,'before', cohen_d_before, p_before])\n",
    "    effect_sizes.append([cl,'after', cohen_d_after, p_after])"
   ]
  },
  {
   "cell_type": "code",
   "execution_count": 36,
   "id": "239c33e6",
   "metadata": {
    "papermill": {
     "duration": 0.030696,
     "end_time": "2023-01-23T02:14:30.239839",
     "exception": false,
     "start_time": "2023-01-23T02:14:30.209143",
     "status": "completed"
    },
    "tags": []
   },
   "outputs": [
    {
     "data": {
      "text/html": [
       "<div>\n",
       "<style scoped>\n",
       "    .dataframe tbody tr th:only-of-type {\n",
       "        vertical-align: middle;\n",
       "    }\n",
       "\n",
       "    .dataframe tbody tr th {\n",
       "        vertical-align: top;\n",
       "    }\n",
       "\n",
       "    .dataframe thead th {\n",
       "        text-align: right;\n",
       "    }\n",
       "</style>\n",
       "<table border=\"1\" class=\"dataframe\">\n",
       "  <thead>\n",
       "    <tr style=\"text-align: right;\">\n",
       "      <th></th>\n",
       "      <th>feature</th>\n",
       "      <th>matching</th>\n",
       "      <th>effect_size</th>\n",
       "      <th>p-value</th>\n",
       "    </tr>\n",
       "  </thead>\n",
       "  <tbody>\n",
       "    <tr>\n",
       "      <th>0</th>\n",
       "      <td>prom_length</td>\n",
       "      <td>before</td>\n",
       "      <td>-0.328313</td>\n",
       "      <td>0.000063</td>\n",
       "    </tr>\n",
       "    <tr>\n",
       "      <th>1</th>\n",
       "      <td>prom_length</td>\n",
       "      <td>after</td>\n",
       "      <td>-0.055414</td>\n",
       "      <td>0.594388</td>\n",
       "    </tr>\n",
       "    <tr>\n",
       "      <th>2</th>\n",
       "      <td>price</td>\n",
       "      <td>before</td>\n",
       "      <td>-0.233573</td>\n",
       "      <td>0.004315</td>\n",
       "    </tr>\n",
       "    <tr>\n",
       "      <th>3</th>\n",
       "      <td>price</td>\n",
       "      <td>after</td>\n",
       "      <td>-0.004145</td>\n",
       "      <td>0.968225</td>\n",
       "    </tr>\n",
       "    <tr>\n",
       "      <th>4</th>\n",
       "      <td>discount_pct</td>\n",
       "      <td>before</td>\n",
       "      <td>0.035411</td>\n",
       "      <td>0.664344</td>\n",
       "    </tr>\n",
       "    <tr>\n",
       "      <th>5</th>\n",
       "      <td>discount_pct</td>\n",
       "      <td>after</td>\n",
       "      <td>0.118635</td>\n",
       "      <td>0.254612</td>\n",
       "    </tr>\n",
       "    <tr>\n",
       "      <th>6</th>\n",
       "      <td>coupon_duration</td>\n",
       "      <td>before</td>\n",
       "      <td>0.282300</td>\n",
       "      <td>0.000571</td>\n",
       "    </tr>\n",
       "    <tr>\n",
       "      <th>7</th>\n",
       "      <td>coupon_duration</td>\n",
       "      <td>after</td>\n",
       "      <td>-0.032618</td>\n",
       "      <td>0.753920</td>\n",
       "    </tr>\n",
       "    <tr>\n",
       "      <th>8</th>\n",
       "      <td>featured</td>\n",
       "      <td>before</td>\n",
       "      <td>0.119074</td>\n",
       "      <td>0.144802</td>\n",
       "    </tr>\n",
       "    <tr>\n",
       "      <th>9</th>\n",
       "      <td>featured</td>\n",
       "      <td>after</td>\n",
       "      <td>-0.030542</td>\n",
       "      <td>0.769122</td>\n",
       "    </tr>\n",
       "    <tr>\n",
       "      <th>10</th>\n",
       "      <td>limited_supply</td>\n",
       "      <td>before</td>\n",
       "      <td>-0.198547</td>\n",
       "      <td>0.015178</td>\n",
       "    </tr>\n",
       "    <tr>\n",
       "      <th>11</th>\n",
       "      <td>limited_supply</td>\n",
       "      <td>after</td>\n",
       "      <td>0.077935</td>\n",
       "      <td>0.454002</td>\n",
       "    </tr>\n",
       "  </tbody>\n",
       "</table>\n",
       "</div>"
      ],
      "text/plain": [
       "            feature matching  effect_size   p-value\n",
       "0       prom_length   before    -0.328313  0.000063\n",
       "1       prom_length    after    -0.055414  0.594388\n",
       "2             price   before    -0.233573  0.004315\n",
       "3             price    after    -0.004145  0.968225\n",
       "4      discount_pct   before     0.035411  0.664344\n",
       "5      discount_pct    after     0.118635  0.254612\n",
       "6   coupon_duration   before     0.282300  0.000571\n",
       "7   coupon_duration    after    -0.032618  0.753920\n",
       "8          featured   before     0.119074  0.144802\n",
       "9          featured    after    -0.030542  0.769122\n",
       "10   limited_supply   before    -0.198547  0.015178\n",
       "11   limited_supply    after     0.077935  0.454002"
      ]
     },
     "execution_count": 36,
     "metadata": {},
     "output_type": "execute_result"
    }
   ],
   "source": [
    "df_effect_sizes = pd.DataFrame(effect_sizes, columns=['feature', 'matching', 'effect_size', 'p-value'])\n",
    "df_effect_sizes"
   ]
  },
  {
   "cell_type": "code",
   "execution_count": 37,
   "id": "eeb73bd3-7555-4894-88cd-98b6d6872164",
   "metadata": {},
   "outputs": [
    {
     "name": "stdout",
     "output_type": "stream",
     "text": [
      "{'coupon_duration'} Diff: 0.315\n",
      "{'discount_pct'} Diff: 0.083\n",
      "{'featured'} Diff: 0.150\n",
      "{'limited_supply'} Diff: 0.276\n",
      "{'price'} Diff: 0.229\n",
      "{'prom_length'} Diff: 0.273\n"
     ]
    }
   ],
   "source": [
    "for _, i in df_effect_sizes.groupby(\"feature\"):\n",
    "    cohen_before = i[i.matching==\"before\"].effect_size.values[0]\n",
    "    cohen_after = i[i.matching==\"after\"].effect_size.values[0]\n",
    "    print(\"{} Diff: {:.3f}\".format(set(i.feature.values), abs(cohen_before-cohen_after)))"
   ]
  },
  {
   "cell_type": "code",
   "execution_count": 42,
   "id": "80fde925",
   "metadata": {
    "papermill": {
     "duration": 0.34372,
     "end_time": "2023-01-23T02:14:30.598426",
     "exception": false,
     "start_time": "2023-01-23T02:14:30.254706",
     "status": "completed"
    },
    "tags": []
   },
   "outputs": [
    {
     "data": {
      "text/plain": [
       "<AxesSubplot:xlabel='effect_size', ylabel='feature'>"
      ]
     },
     "execution_count": 42,
     "metadata": {},
     "output_type": "execute_result"
    },
    {
     "data": {
      "image/png": "[encoded data removed]",
      "text/plain": [
       "<Figure size 1080x432 with 1 Axes>"
      ]
     },
     "metadata": {
      "needs_background": "light"
     },
     "output_type": "display_data"
    }
   ],
   "source": [
    "# discount_pct and featured are not significant, all other features are more balanced after matching\n",
    "fig, ax = plt.subplots(figsize=(15, 6))\n",
    "sns.barplot(data=df_effect_sizes, x='effect_size', y='feature', hue='matching', orient='h')"
   ]
  },
  {
   "cell_type": "code",
   "execution_count": 31,
   "id": "4ae3ee33",
   "metadata": {
    "papermill": {
     "duration": 12.895043,
     "end_time": "2023-01-23T02:14:43.508786",
     "exception": false,
     "start_time": "2023-01-23T02:14:30.613743",
     "status": "completed"
    },
    "tags": []
   },
   "outputs": [
    {
     "name": "stdout",
     "output_type": "stream",
     "text": [
      "Collecting psmpy"
     ]
    },
    {
     "name": "stderr",
     "output_type": "stream",
     "text": [
      "\n",
      "[notice] A new release of pip is available: 23.2.1 -> 23.3.2\n",
      "[notice] To update, run: python.exe -m pip install --upgrade pip\n"
     ]
    },
    {
     "name": "stdout",
     "output_type": "stream",
     "text": [
      "\n",
      "  Downloading psmpy-0.3.13-py3-none-any.whl (13 kB)\n",
      "Requirement already satisfied: matplotlib in c:\\users\\nicholas dominic\\appdata\\local\\programs\\python\\python39\\lib\\site-packages (from psmpy) (3.5.3)\n",
      "Requirement already satisfied: numpy in c:\\users\\nicholas dominic\\appdata\\local\\programs\\python\\python39\\lib\\site-packages (from psmpy) (1.23.3)\n",
      "Requirement already satisfied: pandas in c:\\users\\nicholas dominic\\appdata\\local\\programs\\python\\python39\\lib\\site-packages (from psmpy) (1.4.4)\n",
      "Requirement already satisfied: seaborn in c:\\users\\nicholas dominic\\appdata\\local\\programs\\python\\python39\\lib\\site-packages (from psmpy) (0.12.0)\n",
      "Requirement already satisfied: scikit-learn in c:\\users\\nicholas dominic\\appdata\\local\\programs\\python\\python39\\lib\\site-packages (from psmpy) (1.1.2)\n",
      "Requirement already satisfied: scipy in c:\\users\\nicholas dominic\\appdata\\local\\programs\\python\\python39\\lib\\site-packages (from psmpy) (1.8.0)\n",
      "Requirement already satisfied: cycler>=0.10 in c:\\users\\nicholas dominic\\appdata\\local\\programs\\python\\python39\\lib\\site-packages (from matplotlib->psmpy) (0.11.0)\n",
      "Requirement already satisfied: fonttools>=4.22.0 in c:\\users\\nicholas dominic\\appdata\\local\\programs\\python\\python39\\lib\\site-packages (from matplotlib->psmpy) (4.31.2)\n",
      "Requirement already satisfied: kiwisolver>=1.0.1 in c:\\users\\nicholas dominic\\appdata\\local\\programs\\python\\python39\\lib\\site-packages (from matplotlib->psmpy) (1.4.2)\n",
      "Requirement already satisfied: packaging>=20.0 in c:\\users\\nicholas dominic\\appdata\\local\\programs\\python\\python39\\lib\\site-packages (from matplotlib->psmpy) (21.3)\n",
      "Requirement already satisfied: pillow>=6.2.0 in c:\\users\\nicholas dominic\\appdata\\local\\programs\\python\\python39\\lib\\site-packages (from matplotlib->psmpy) (9.1.0)\n",
      "Requirement already satisfied: pyparsing>=2.2.1 in c:\\users\\nicholas dominic\\appdata\\local\\programs\\python\\python39\\lib\\site-packages (from matplotlib->psmpy) (3.0.7)\n",
      "Requirement already satisfied: python-dateutil>=2.7 in c:\\users\\nicholas dominic\\appdata\\local\\programs\\python\\python39\\lib\\site-packages (from matplotlib->psmpy) (2.8.2)\n",
      "Requirement already satisfied: pytz>=2020.1 in c:\\users\\nicholas dominic\\appdata\\local\\programs\\python\\python39\\lib\\site-packages (from pandas->psmpy) (2022.1)\n",
      "Requirement already satisfied: joblib>=1.0.0 in c:\\users\\nicholas dominic\\appdata\\local\\programs\\python\\python39\\lib\\site-packages (from scikit-learn->psmpy) (1.1.0)\n",
      "Requirement already satisfied: threadpoolctl>=2.0.0 in c:\\users\\nicholas dominic\\appdata\\local\\programs\\python\\python39\\lib\\site-packages (from scikit-learn->psmpy) (3.1.0)\n",
      "Requirement already satisfied: six>=1.5 in c:\\users\\nicholas dominic\\appdata\\local\\programs\\python\\python39\\lib\\site-packages (from python-dateutil>=2.7->matplotlib->psmpy) (1.16.0)\n",
      "Installing collected packages: psmpy\n",
      "Successfully installed psmpy-0.3.13\n"
     ]
    }
   ],
   "source": [
    "!pip install psmpy"
   ]
  },
  {
   "cell_type": "code",
   "execution_count": 32,
   "id": "5c6719be",
   "metadata": {
    "papermill": {
     "duration": 0.030572,
     "end_time": "2023-01-23T02:14:43.554755",
     "exception": false,
     "start_time": "2023-01-23T02:14:43.524183",
     "status": "completed"
    },
    "tags": []
   },
   "outputs": [],
   "source": [
    "from psmpy import PsmPy\n",
    "from psmpy.plotting import *"
   ]
  },
  {
   "cell_type": "code",
   "execution_count": 34,
   "id": "fdec8ba7",
   "metadata": {
    "papermill": {
     "duration": 0.036305,
     "end_time": "2023-01-23T02:14:43.606558",
     "exception": false,
     "start_time": "2023-01-23T02:14:43.570253",
     "status": "completed"
    },
    "tags": []
   },
   "outputs": [
    {
     "name": "stdout",
     "output_type": "stream",
     "text": [
      "<class 'pandas.core.frame.DataFrame'>\n",
      "RangeIndex: 710 entries, 0 to 709\n",
      "Data columns (total 13 columns):\n",
      " #   Column           Non-Null Count  Dtype \n",
      "---  ------           --------------  ----- \n",
      " 0   deal_id          710 non-null    object\n",
      " 1   start_date       710 non-null    object\n",
      " 2   min_req          710 non-null    int64 \n",
      " 3   treatment        710 non-null    int64 \n",
      " 4   prom_length      710 non-null    int64 \n",
      " 5   price            710 non-null    int64 \n",
      " 6   discount_pct     710 non-null    int64 \n",
      " 7   coupon_duration  710 non-null    int64 \n",
      " 8   featured         710 non-null    int64 \n",
      " 9   limited_supply   710 non-null    int64 \n",
      " 10  fb_likes         710 non-null    int64 \n",
      " 11  quantity_sold    710 non-null    int64 \n",
      " 12  revenue          710 non-null    int64 \n",
      "dtypes: int64(11), object(2)\n",
      "memory usage: 72.2+ KB\n"
     ]
    }
   ],
   "source": [
    "df_psmpy = pd.read_csv('datasets/groupon.csv')\n",
    "df_psmpy.info()"
   ]
  },
  {
   "cell_type": "code",
   "execution_count": 35,
   "id": "90b804fd",
   "metadata": {
    "papermill": {
     "duration": 0.034632,
     "end_time": "2023-01-23T02:14:43.656762",
     "exception": false,
     "start_time": "2023-01-23T02:14:43.622130",
     "status": "completed"
    },
    "tags": []
   },
   "outputs": [],
   "source": [
    "# exclude: ignore any covariates (columns) passed to the it during model fitting\n",
    "# indx - required parameter that references a unique ID number for each case\n",
    "psm = PsmPy(df_psmpy, treatment='treatment', indx='deal_id', exclude = ['min_req', 'start_date', 'fb_likes', 'quantity_sold', 'revenue'])"
   ]
  },
  {
   "cell_type": "code",
   "execution_count": 36,
   "id": "865aced2",
   "metadata": {
    "papermill": {
     "duration": 0.059873,
     "end_time": "2023-01-23T02:14:43.732595",
     "exception": false,
     "start_time": "2023-01-23T02:14:43.672722",
     "status": "completed"
    },
    "tags": []
   },
   "outputs": [
    {
     "data": {
      "text/html": [
       "<div>\n",
       "<style scoped>\n",
       "    .dataframe tbody tr th:only-of-type {\n",
       "        vertical-align: middle;\n",
       "    }\n",
       "\n",
       "    .dataframe tbody tr th {\n",
       "        vertical-align: top;\n",
       "    }\n",
       "\n",
       "    .dataframe thead th {\n",
       "        text-align: right;\n",
       "    }\n",
       "</style>\n",
       "<table border=\"1\" class=\"dataframe\">\n",
       "  <thead>\n",
       "    <tr style=\"text-align: right;\">\n",
       "      <th></th>\n",
       "      <th>deal_id</th>\n",
       "      <th>prom_length</th>\n",
       "      <th>price</th>\n",
       "      <th>discount_pct</th>\n",
       "      <th>coupon_duration</th>\n",
       "      <th>featured</th>\n",
       "      <th>limited_supply</th>\n",
       "      <th>propensity_score</th>\n",
       "      <th>propensity_logit</th>\n",
       "      <th>treatment</th>\n",
       "    </tr>\n",
       "  </thead>\n",
       "  <tbody>\n",
       "    <tr>\n",
       "      <th>0</th>\n",
       "      <td>3rd-coast-cruising-1</td>\n",
       "      <td>3</td>\n",
       "      <td>75</td>\n",
       "      <td>50</td>\n",
       "      <td>378</td>\n",
       "      <td>1</td>\n",
       "      <td>1</td>\n",
       "      <td>0.541488</td>\n",
       "      <td>0.166333</td>\n",
       "      <td>0</td>\n",
       "    </tr>\n",
       "    <tr>\n",
       "      <th>1</th>\n",
       "      <td>516-skydive-new-york</td>\n",
       "      <td>7</td>\n",
       "      <td>145</td>\n",
       "      <td>39</td>\n",
       "      <td>170</td>\n",
       "      <td>0</td>\n",
       "      <td>1</td>\n",
       "      <td>0.063623</td>\n",
       "      <td>-2.689036</td>\n",
       "      <td>0</td>\n",
       "    </tr>\n",
       "    <tr>\n",
       "      <th>2</th>\n",
       "      <td>92nd-st-y-nyc</td>\n",
       "      <td>3</td>\n",
       "      <td>29</td>\n",
       "      <td>82</td>\n",
       "      <td>125</td>\n",
       "      <td>0</td>\n",
       "      <td>0</td>\n",
       "      <td>0.392219</td>\n",
       "      <td>-0.437994</td>\n",
       "      <td>0</td>\n",
       "    </tr>\n",
       "    <tr>\n",
       "      <th>3</th>\n",
       "      <td>above-all-cruises-ny</td>\n",
       "      <td>4</td>\n",
       "      <td>39</td>\n",
       "      <td>51</td>\n",
       "      <td>207</td>\n",
       "      <td>0</td>\n",
       "      <td>1</td>\n",
       "      <td>0.317265</td>\n",
       "      <td>-0.766371</td>\n",
       "      <td>0</td>\n",
       "    </tr>\n",
       "    <tr>\n",
       "      <th>4</th>\n",
       "      <td>adaptive-adventures</td>\n",
       "      <td>3</td>\n",
       "      <td>10</td>\n",
       "      <td>0</td>\n",
       "      <td>5</td>\n",
       "      <td>0</td>\n",
       "      <td>1</td>\n",
       "      <td>0.321258</td>\n",
       "      <td>-0.747996</td>\n",
       "      <td>0</td>\n",
       "    </tr>\n",
       "    <tr>\n",
       "      <th>...</th>\n",
       "      <td>...</td>\n",
       "      <td>...</td>\n",
       "      <td>...</td>\n",
       "      <td>...</td>\n",
       "      <td>...</td>\n",
       "      <td>...</td>\n",
       "      <td>...</td>\n",
       "      <td>...</td>\n",
       "      <td>...</td>\n",
       "      <td>...</td>\n",
       "    </tr>\n",
       "    <tr>\n",
       "      <th>705</th>\n",
       "      <td>gl-windy-city-circus-1</td>\n",
       "      <td>4</td>\n",
       "      <td>20</td>\n",
       "      <td>50</td>\n",
       "      <td>5</td>\n",
       "      <td>0</td>\n",
       "      <td>1</td>\n",
       "      <td>0.212691</td>\n",
       "      <td>-1.308780</td>\n",
       "      <td>1</td>\n",
       "    </tr>\n",
       "    <tr>\n",
       "      <th>706</th>\n",
       "      <td>lets-go-paragliding</td>\n",
       "      <td>6</td>\n",
       "      <td>99</td>\n",
       "      <td>58</td>\n",
       "      <td>73</td>\n",
       "      <td>0</td>\n",
       "      <td>1</td>\n",
       "      <td>0.083981</td>\n",
       "      <td>-2.389441</td>\n",
       "      <td>1</td>\n",
       "    </tr>\n",
       "    <tr>\n",
       "      <th>707</th>\n",
       "      <td>spare-time-chicago-3</td>\n",
       "      <td>4</td>\n",
       "      <td>12</td>\n",
       "      <td>74</td>\n",
       "      <td>166</td>\n",
       "      <td>0</td>\n",
       "      <td>0</td>\n",
       "      <td>0.392404</td>\n",
       "      <td>-0.437220</td>\n",
       "      <td>1</td>\n",
       "    </tr>\n",
       "    <tr>\n",
       "      <th>708</th>\n",
       "      <td>dc-gmt-slice-chicago-tours</td>\n",
       "      <td>7</td>\n",
       "      <td>22</td>\n",
       "      <td>51</td>\n",
       "      <td>106</td>\n",
       "      <td>0</td>\n",
       "      <td>1</td>\n",
       "      <td>0.128638</td>\n",
       "      <td>-1.913052</td>\n",
       "      <td>1</td>\n",
       "    </tr>\n",
       "    <tr>\n",
       "      <th>709</th>\n",
       "      <td>slice-of-chicago-pizza-tours-3</td>\n",
       "      <td>3</td>\n",
       "      <td>22</td>\n",
       "      <td>51</td>\n",
       "      <td>83</td>\n",
       "      <td>0</td>\n",
       "      <td>1</td>\n",
       "      <td>0.322159</td>\n",
       "      <td>-0.743866</td>\n",
       "      <td>1</td>\n",
       "    </tr>\n",
       "  </tbody>\n",
       "</table>\n",
       "<p>710 rows × 10 columns</p>\n",
       "</div>"
      ],
      "text/plain": [
       "                            deal_id  prom_length  price  discount_pct  \\\n",
       "0              3rd-coast-cruising-1            3     75            50   \n",
       "1              516-skydive-new-york            7    145            39   \n",
       "2                     92nd-st-y-nyc            3     29            82   \n",
       "3              above-all-cruises-ny            4     39            51   \n",
       "4               adaptive-adventures            3     10             0   \n",
       "..                              ...          ...    ...           ...   \n",
       "705          gl-windy-city-circus-1            4     20            50   \n",
       "706             lets-go-paragliding            6     99            58   \n",
       "707            spare-time-chicago-3            4     12            74   \n",
       "708      dc-gmt-slice-chicago-tours            7     22            51   \n",
       "709  slice-of-chicago-pizza-tours-3            3     22            51   \n",
       "\n",
       "     coupon_duration  featured  limited_supply  propensity_score  \\\n",
       "0                378         1               1          0.541488   \n",
       "1                170         0               1          0.063623   \n",
       "2                125         0               0          0.392219   \n",
       "3                207         0               1          0.317265   \n",
       "4                  5         0               1          0.321258   \n",
       "..               ...       ...             ...               ...   \n",
       "705                5         0               1          0.212691   \n",
       "706               73         0               1          0.083981   \n",
       "707              166         0               0          0.392404   \n",
       "708              106         0               1          0.128638   \n",
       "709               83         0               1          0.322159   \n",
       "\n",
       "     propensity_logit  treatment  \n",
       "0            0.166333          0  \n",
       "1           -2.689036          0  \n",
       "2           -0.437994          0  \n",
       "3           -0.766371          0  \n",
       "4           -0.747996          0  \n",
       "..                ...        ...  \n",
       "705         -1.308780          1  \n",
       "706         -2.389441          1  \n",
       "707         -0.437220          1  \n",
       "708         -1.913052          1  \n",
       "709         -0.743866          1  \n",
       "\n",
       "[710 rows x 10 columns]"
      ]
     },
     "execution_count": 36,
     "metadata": {},
     "output_type": "execute_result"
    }
   ],
   "source": [
    "# same as my code using balance=False\n",
    "psm.logistic_ps(balance=False)\n",
    "psm.predicted_data"
   ]
  },
  {
   "cell_type": "code",
   "execution_count": 37,
   "id": "93c2fe6d",
   "metadata": {
    "papermill": {
     "duration": 0.232313,
     "end_time": "2023-01-23T02:14:43.980756",
     "exception": false,
     "start_time": "2023-01-23T02:14:43.748443",
     "status": "completed"
    },
    "tags": []
   },
   "outputs": [
    {
     "name": "stderr",
     "output_type": "stream",
     "text": [
      "C:\\Users\\Nicholas Dominic\\AppData\\Local\\Programs\\Python\\Python39\\lib\\site-packages\\psmpy\\psmpy.py:363: UserWarning: Some values do not have a match. These are dropped for purposes of establishing a matched dataframe, and subsequent calculations and plots (effect size). If you do not wish this to be the case please set drop_unmatched=False\n",
      "  warnings.warn('Some values do not have a match. These are dropped for purposes of establishing a matched dataframe, and subsequent calculations and plots (effect size). If you do not wish this to be the case please set drop_unmatched=False')\n"
     ]
    }
   ],
   "source": [
    "psm.knn_matched(matcher='propensity_logit', replacement=False, caliper=None)"
   ]
  },
  {
   "cell_type": "code",
   "execution_count": 38,
   "id": "2215701f",
   "metadata": {
    "papermill": {
     "duration": 0.327008,
     "end_time": "2023-01-23T02:14:44.325084",
     "exception": false,
     "start_time": "2023-01-23T02:14:43.998076",
     "status": "completed"
    },
    "tags": []
   },
   "outputs": [
    {
     "data": {
      "image/png": "[encoded data removed]",
      "text/plain": [
       "<Figure size 720x576 with 1 Axes>"
      ]
     },
     "metadata": {},
     "output_type": "display_data"
    }
   ],
   "source": [
    "psm.plot_match(Title='Matching Result', Ylabel='# of obs', Xlabel= 'propensity logit', names = ['treatment', 'control'])"
   ]
  },
  {
   "cell_type": "code",
   "execution_count": 39,
   "id": "1d97538a",
   "metadata": {
    "papermill": {
     "duration": 0.384148,
     "end_time": "2023-01-23T02:14:44.727067",
     "exception": false,
     "start_time": "2023-01-23T02:14:44.342919",
     "status": "completed"
    },
    "tags": []
   },
   "outputs": [
    {
     "data": {
      "image/png": "[encoded data removed]",
      "text/plain": [
       "<Figure size 720x576 with 1 Axes>"
      ]
     },
     "metadata": {},
     "output_type": "display_data"
    }
   ],
   "source": [
    "psm.effect_size_plot()"
   ]
  },
  {
   "cell_type": "code",
   "execution_count": 40,
   "id": "0dfeca56",
   "metadata": {
    "papermill": {
     "duration": 0.03196,
     "end_time": "2023-01-23T02:14:44.776625",
     "exception": false,
     "start_time": "2023-01-23T02:14:44.744665",
     "status": "completed"
    },
    "tags": []
   },
   "outputs": [
    {
     "data": {
      "text/html": [
       "<div>\n",
       "<style scoped>\n",
       "    .dataframe tbody tr th:only-of-type {\n",
       "        vertical-align: middle;\n",
       "    }\n",
       "\n",
       "    .dataframe tbody tr th {\n",
       "        vertical-align: top;\n",
       "    }\n",
       "\n",
       "    .dataframe thead th {\n",
       "        text-align: right;\n",
       "    }\n",
       "</style>\n",
       "<table border=\"1\" class=\"dataframe\">\n",
       "  <thead>\n",
       "    <tr style=\"text-align: right;\">\n",
       "      <th></th>\n",
       "      <th>Variable</th>\n",
       "      <th>matching</th>\n",
       "      <th>Effect Size</th>\n",
       "    </tr>\n",
       "  </thead>\n",
       "  <tbody>\n",
       "    <tr>\n",
       "      <th>0</th>\n",
       "      <td>prom_length</td>\n",
       "      <td>before</td>\n",
       "      <td>0.328313</td>\n",
       "    </tr>\n",
       "    <tr>\n",
       "      <th>1</th>\n",
       "      <td>prom_length</td>\n",
       "      <td>after</td>\n",
       "      <td>0.045102</td>\n",
       "    </tr>\n",
       "    <tr>\n",
       "      <th>2</th>\n",
       "      <td>price</td>\n",
       "      <td>before</td>\n",
       "      <td>0.233573</td>\n",
       "    </tr>\n",
       "    <tr>\n",
       "      <th>3</th>\n",
       "      <td>price</td>\n",
       "      <td>after</td>\n",
       "      <td>0.076804</td>\n",
       "    </tr>\n",
       "    <tr>\n",
       "      <th>4</th>\n",
       "      <td>discount_pct</td>\n",
       "      <td>before</td>\n",
       "      <td>0.035411</td>\n",
       "    </tr>\n",
       "    <tr>\n",
       "      <th>5</th>\n",
       "      <td>discount_pct</td>\n",
       "      <td>after</td>\n",
       "      <td>0.027746</td>\n",
       "    </tr>\n",
       "    <tr>\n",
       "      <th>6</th>\n",
       "      <td>coupon_duration</td>\n",
       "      <td>before</td>\n",
       "      <td>0.282300</td>\n",
       "    </tr>\n",
       "    <tr>\n",
       "      <th>7</th>\n",
       "      <td>coupon_duration</td>\n",
       "      <td>after</td>\n",
       "      <td>0.169019</td>\n",
       "    </tr>\n",
       "    <tr>\n",
       "      <th>8</th>\n",
       "      <td>featured</td>\n",
       "      <td>before</td>\n",
       "      <td>0.119074</td>\n",
       "    </tr>\n",
       "    <tr>\n",
       "      <th>9</th>\n",
       "      <td>featured</td>\n",
       "      <td>after</td>\n",
       "      <td>0.065908</td>\n",
       "    </tr>\n",
       "    <tr>\n",
       "      <th>10</th>\n",
       "      <td>limited_supply</td>\n",
       "      <td>before</td>\n",
       "      <td>0.198547</td>\n",
       "    </tr>\n",
       "    <tr>\n",
       "      <th>11</th>\n",
       "      <td>limited_supply</td>\n",
       "      <td>after</td>\n",
       "      <td>0.046427</td>\n",
       "    </tr>\n",
       "  </tbody>\n",
       "</table>\n",
       "</div>"
      ],
      "text/plain": [
       "           Variable matching  Effect Size\n",
       "0       prom_length   before     0.328313\n",
       "1       prom_length    after     0.045102\n",
       "2             price   before     0.233573\n",
       "3             price    after     0.076804\n",
       "4      discount_pct   before     0.035411\n",
       "5      discount_pct    after     0.027746\n",
       "6   coupon_duration   before     0.282300\n",
       "7   coupon_duration    after     0.169019\n",
       "8          featured   before     0.119074\n",
       "9          featured    after     0.065908\n",
       "10   limited_supply   before     0.198547\n",
       "11   limited_supply    after     0.046427"
      ]
     },
     "execution_count": 40,
     "metadata": {},
     "output_type": "execute_result"
    }
   ],
   "source": [
    "psm.effect_size"
   ]
  }
 ],
 "metadata": {
  "kernelspec": {
   "display_name": "Python 3 (ipykernel)",
   "language": "python",
   "name": "python3"
  },
  "language_info": {
   "codemirror_mode": {
    "name": "ipython",
    "version": 3
   },
   "file_extension": ".py",
   "mimetype": "text/x-python",
   "name": "python",
   "nbconvert_exporter": "python",
   "pygments_lexer": "ipython3",
   "version": "3.9.12"
  },
  "papermill": {
   "default_parameters": {},
   "duration": 29.991069,
   "end_time": "2023-01-23T02:14:45.617220",
   "environment_variables": {},
   "exception": null,
   "input_path": "__notebook__.ipynb",
   "output_path": "__notebook__.ipynb",
   "parameters": {},
   "start_time": "2023-01-23T02:14:15.626151",
   "version": "2.3.4"
  }
 },
 "nbformat": 4,
 "nbformat_minor": 5
}
