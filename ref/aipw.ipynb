{
 "cells": [
  {
   "cell_type": "markdown",
   "id": "729882e2",
   "metadata": {},
   "source": [
    "# Understanding AIPW"
   ]
  },
  {
   "cell_type": "markdown",
   "id": "b14b25c4",
   "metadata": {},
   "source": [
    "*An introduction to doubly-robust estimation of conditional average treatment effects (CATE)*"
   ]
  },
  {
   "cell_type": "markdown",
   "id": "fadaa98a",
   "metadata": {},
   "source": [
    "When estimating causal effects, the gold standard is **randomized controlled trials or AB tests**. By randomly exposing units to a treatment we make sure that individuals in both groups are comparable, on average, and any difference we observe can be attributed to the treatment effect alone.\n",
    "\n",
    "However, often the treatment and control groups are **not perfectly comparable**. This could be due to the fact that randomization was not perfect or available. Not always we can randomize a treatment, for ethical or practical reasons. And even when we can, sometimes we do not have enough individuals or units so that differences between groups are seizable. This happens often, for example, when randomization is not done at the individual level, but at a higher level of aggregation, for example zipcodes, counties or even states.\n",
    "\n",
    "In a [previous post](https://towardsdatascience.com/99bf5cffa0d9), I have introduced and compared a series of methods that compute **conditional average treatment effects (CATE)** from observational or experimental data. Some of these methods require the researcher to specify and estimate the distribution of the outcome of interest, given the treatment and the observable characteristics (e.g. [meta learners](https://towardsdatascience.com/8a9c1e340832)). Other methods require the researcher to specify and estimate the probability of being treated, given the observable characteristics (e.g. [IPW](https://towardsdatascience.com/99bf5cffa0d9)). \n",
    "\n",
    "In this post, we are going to see a procedure that **combines** both methods and is **robust** to misspecification of either method's model: the Augmented Inverse Probability Weighted estimator (AIPW). "
   ]
  },
  {
   "cell_type": "markdown",
   "id": "8d840a0f",
   "metadata": {},
   "source": [
    "<img src=\"fig/fusion.gif\" width=\"400px\"/>"
   ]
  },
  {
   "cell_type": "markdown",
   "id": "ed67cc5f",
   "metadata": {},
   "source": [
    "**TLDR;** AIPW greatly improves both IPW and meta-learners, and you should always use it!"
   ]
  },
  {
   "cell_type": "markdown",
   "id": "b4fc1253",
   "metadata": {},
   "source": [
    "## Example"
   ]
  },
  {
   "cell_type": "markdown",
   "id": "cbc3a632",
   "metadata": {},
   "source": [
    "Assume we had blog on statistics and causal inference 😇. To improve user experience, we are considering **releasing a dark mode**, and we would like to understand whether this new feature increases the time users spend on our blog. \n",
    "\n",
    "This example is borrowed from my last post on the estimation of conditional average treatment effects (CATE). You can find the [original post here](https://towardsdatascience.com/99bf5cffa0d9). If you remember the setting, you can skip this introduction."
   ]
  },
  {
   "cell_type": "markdown",
   "id": "59768228",
   "metadata": {
    "ExecuteTime": {
     "end_time": "2022-07-02T07:41:53.088493Z",
     "start_time": "2022-07-02T07:41:53.079401Z"
    }
   },
   "source": [
    "<img src=\"fig/modes.png\" width=\"600px\"/>"
   ]
  },
  {
   "cell_type": "markdown",
   "id": "7fe647eb",
   "metadata": {},
   "source": [
    "We are not a sophisticated company, therefore we do not run an AB test but we simply release the dark mode and we observe whether users select it or not and the time they spend on the blog. We know that there might be **selection**:  users that prefer the dark mode could have different reading preferences and this might complicate our causal analysis.\n",
    "\n",
    "We can represent the data generating process with the following [**Directed Acyclic Graph (DAG)**](https://towardsdatascience.com/b63dc69e3d8c).\n",
    "\n",
    "```mermaid\n",
    "flowchart TB\n",
    "classDef included fill:#DCDCDC,stroke:#000000,stroke-width:2px;\n",
    "classDef excluded fill:#ffffff,stroke:#000000,stroke-width:2px;\n",
    "classDef unobserved fill:#ffffff,stroke:#000000,stroke-width:2px,stroke-dasharray: 5 5;\n",
    "\n",
    "X1((gender))\n",
    "X2((age))\n",
    "X3((hours))\n",
    "D((dark mode))\n",
    "Y((read time))\n",
    "\n",
    "D --> Y\n",
    "X1 --> Y\n",
    "X1 --> D\n",
    "X2 --> D\n",
    "X3 --> Y\n",
    "\n",
    "class D,Y included;\n",
    "class X1,X2,X3 excluded;\n",
    "```\n",
    "\n",
    "We generate the simulated data using the data generating process `dgp_darkmode()` from [`src.dgp`](https://github.com/matteocourthoud/Blog-Posts/blob/main/notebooks/src/dgp.py). I also import some plotting functions and libraries from [`src.utils`](https://github.com/matteocourthoud/Blog-Posts/blob/main/notebooks/src/utils.py)."
   ]
  },
  {
   "cell_type": "code",
   "execution_count": 4,
   "id": "872a648b",
   "metadata": {
    "ExecuteTime": {
     "end_time": "2022-07-15T08:24:13.345989Z",
     "start_time": "2022-07-15T08:24:12.931803Z"
    }
   },
   "outputs": [],
   "source": [
    "%matplotlib inline\n",
    "%config InlineBackend.figure_format = 'retina'"
   ]
  },
  {
   "cell_type": "code",
   "execution_count": 5,
   "id": "5f94a488",
   "metadata": {
    "ExecuteTime": {
     "end_time": "2022-07-15T08:24:14.007390Z",
     "start_time": "2022-07-15T08:24:13.353140Z"
    }
   },
   "outputs": [],
   "source": [
    "from src.utils import *\n",
    "from src.dgp import dgp_darkmode"
   ]
  },
  {
   "cell_type": "code",
   "execution_count": 6,
   "id": "775899ec",
   "metadata": {
    "ExecuteTime": {
     "end_time": "2022-07-15T08:24:14.020828Z",
     "start_time": "2022-07-15T08:24:14.013965Z"
    }
   },
   "outputs": [
    {
     "data": {
      "text/html": [
       "<div>\n",
       "<style scoped>\n",
       "    .dataframe tbody tr th:only-of-type {\n",
       "        vertical-align: middle;\n",
       "    }\n",
       "\n",
       "    .dataframe tbody tr th {\n",
       "        vertical-align: top;\n",
       "    }\n",
       "\n",
       "    .dataframe thead th {\n",
       "        text-align: right;\n",
       "    }\n",
       "</style>\n",
       "<table border=\"1\" class=\"dataframe\">\n",
       "  <thead>\n",
       "    <tr style=\"text-align: right;\">\n",
       "      <th></th>\n",
       "      <th>read_time</th>\n",
       "      <th>dark_mode</th>\n",
       "      <th>male</th>\n",
       "      <th>age</th>\n",
       "      <th>hours</th>\n",
       "    </tr>\n",
       "  </thead>\n",
       "  <tbody>\n",
       "    <tr>\n",
       "      <th>0</th>\n",
       "      <td>14.4</td>\n",
       "      <td>False</td>\n",
       "      <td>0</td>\n",
       "      <td>43.0</td>\n",
       "      <td>65.6</td>\n",
       "    </tr>\n",
       "    <tr>\n",
       "      <th>1</th>\n",
       "      <td>15.4</td>\n",
       "      <td>False</td>\n",
       "      <td>1</td>\n",
       "      <td>55.0</td>\n",
       "      <td>125.4</td>\n",
       "    </tr>\n",
       "    <tr>\n",
       "      <th>2</th>\n",
       "      <td>20.9</td>\n",
       "      <td>True</td>\n",
       "      <td>0</td>\n",
       "      <td>23.0</td>\n",
       "      <td>642.6</td>\n",
       "    </tr>\n",
       "    <tr>\n",
       "      <th>3</th>\n",
       "      <td>20.0</td>\n",
       "      <td>False</td>\n",
       "      <td>0</td>\n",
       "      <td>41.0</td>\n",
       "      <td>129.1</td>\n",
       "    </tr>\n",
       "    <tr>\n",
       "      <th>4</th>\n",
       "      <td>21.5</td>\n",
       "      <td>True</td>\n",
       "      <td>0</td>\n",
       "      <td>29.0</td>\n",
       "      <td>190.2</td>\n",
       "    </tr>\n",
       "  </tbody>\n",
       "</table>\n",
       "</div>"
      ],
      "text/plain": [
       "   read_time  dark_mode  male   age  hours\n",
       "0       14.4      False     0  43.0   65.6\n",
       "1       15.4      False     1  55.0  125.4\n",
       "2       20.9       True     0  23.0  642.6\n",
       "3       20.0      False     0  41.0  129.1\n",
       "4       21.5       True     0  29.0  190.2"
      ]
     },
     "execution_count": 6,
     "metadata": {},
     "output_type": "execute_result"
    }
   ],
   "source": [
    "dgp = dgp_darkmode()\n",
    "df = dgp.generate_data()\n",
    "df.head()"
   ]
  },
  {
   "cell_type": "markdown",
   "id": "6ce30b82",
   "metadata": {},
   "source": [
    "We have informations on 300 users for whom we observe whether they select the `dark_mode` (the treatment), their weekly `read_time` (the outcome of interest) and some characteristics like `gender`, `age` and total `hours` previously spend on the blog.\n",
    "\n",
    "We would like to estimate the effect of the new `dark_mode` on users' `read_time`. As a first approach, we might naively compute the effect as a difference in means, assuming that the treatment and control sample are comparable. We can estimate the difference in means by regressing `read_time` on `dark_mode`."
   ]
  },
  {
   "cell_type": "code",
   "execution_count": 7,
   "id": "83f4ecf5",
   "metadata": {
    "ExecuteTime": {
     "end_time": "2022-07-15T08:24:14.043115Z",
     "start_time": "2022-07-15T08:24:14.036186Z"
    }
   },
   "outputs": [
    {
     "data": {
      "text/html": [
       "<table class=\"simpletable\">\n",
       "<tr>\n",
       "          <td></td>             <th>coef</th>     <th>std err</th>      <th>t</th>      <th>P>|t|</th>  <th>[0.025</th>    <th>0.975]</th>  \n",
       "</tr>\n",
       "<tr>\n",
       "  <th>Intercept</th>         <td>   19.1748</td> <td>    0.402</td> <td>   47.661</td> <td> 0.000</td> <td>   18.383</td> <td>   19.967</td>\n",
       "</tr>\n",
       "<tr>\n",
       "  <th>dark_mode[T.True]</th> <td>   -0.4446</td> <td>    0.571</td> <td>   -0.779</td> <td> 0.437</td> <td>   -1.568</td> <td>    0.679</td>\n",
       "</tr>\n",
       "</table>"
      ],
      "text/plain": [
       "<class 'statsmodels.iolib.table.SimpleTable'>"
      ]
     },
     "execution_count": 7,
     "metadata": {},
     "output_type": "execute_result"
    }
   ],
   "source": [
    "smf.ols(\"read_time ~ dark_mode\", data=df).fit().summary().tables[1]"
   ]
  },
  {
   "cell_type": "markdown",
   "id": "fc22afb9",
   "metadata": {},
   "source": [
    "Individuals that select the `dark_mode` spend on average 0.44 hours less on the blog, per week. Should we conclude that `dark_mode` is a **bad idea**? Is this a causal effect?\n",
    "\n",
    "The problem is that we did **not** run an [**AB test**](https://de.wikipedia.org/wiki/A/B-Test) or randomized control trial, therefore users that selected the `dark_mode` might not be directly **comparable** with users that didn't. Can we verify this concern? Partially. We can only check characteristics that we observe, `gender`, `age` and total `hours` in our setting. We cannot check if users differ along other dimensions that we don't observe.\n",
    "\n",
    "Let's use the `create_table_one` function from Uber's [`causalml`](https://causalml.readthedocs.io/) package to produce a **covariate balance table**, containing the average value of our observable characteristics, across treatment and control groups. As the name suggests, this should always be the first table you present in causal inference analysis."
   ]
  },
  {
   "cell_type": "markdown",
   "id": "82f82102",
   "metadata": {},
   "source": [
    "We did not randomize the `dark_mode` so that users that selected it might not be directly **comparable** with users that didn't. Can we verify this concern? Partially. We can only check characteristics that we observe, `gender`, `age` and total `hours` in our setting. We cannot check if users differ along other dimensions that we don't observe.\n",
    "\n",
    "Let's use the `create_table_one` function from Uber's [`causalml`](https://causalml.readthedocs.io/) package to produce a **covariate balance table**, containing the average value of our observable characteristics, across treatment and control groups. As the name suggests, this should always be the first table you present in causal inference analysis."
   ]
  },
  {
   "cell_type": "code",
   "execution_count": 8,
   "id": "20587327",
   "metadata": {
    "ExecuteTime": {
     "end_time": "2022-07-15T08:24:14.070192Z",
     "start_time": "2022-07-15T08:24:14.056956Z"
    }
   },
   "outputs": [
    {
     "data": {
      "text/html": [
       "<div>\n",
       "<style scoped>\n",
       "    .dataframe tbody tr th:only-of-type {\n",
       "        vertical-align: middle;\n",
       "    }\n",
       "\n",
       "    .dataframe tbody tr th {\n",
       "        vertical-align: top;\n",
       "    }\n",
       "\n",
       "    .dataframe thead th {\n",
       "        text-align: right;\n",
       "    }\n",
       "</style>\n",
       "<table border=\"1\" class=\"dataframe\">\n",
       "  <thead>\n",
       "    <tr style=\"text-align: right;\">\n",
       "      <th></th>\n",
       "      <th>Control</th>\n",
       "      <th>Treatment</th>\n",
       "      <th>SMD</th>\n",
       "    </tr>\n",
       "    <tr>\n",
       "      <th>Variable</th>\n",
       "      <th></th>\n",
       "      <th></th>\n",
       "      <th></th>\n",
       "    </tr>\n",
       "  </thead>\n",
       "  <tbody>\n",
       "    <tr>\n",
       "      <th>n</th>\n",
       "      <td>151</td>\n",
       "      <td>149</td>\n",
       "      <td></td>\n",
       "    </tr>\n",
       "    <tr>\n",
       "      <th>age</th>\n",
       "      <td>46.01 (9.79)</td>\n",
       "      <td>39.09 (11.53)</td>\n",
       "      <td>-0.6469</td>\n",
       "    </tr>\n",
       "    <tr>\n",
       "      <th>hours</th>\n",
       "      <td>337.78 (464.00)</td>\n",
       "      <td>328.57 (442.12)</td>\n",
       "      <td>-0.0203</td>\n",
       "    </tr>\n",
       "    <tr>\n",
       "      <th>male</th>\n",
       "      <td>0.34 (0.47)</td>\n",
       "      <td>0.66 (0.48)</td>\n",
       "      <td>0.6732</td>\n",
       "    </tr>\n",
       "  </tbody>\n",
       "</table>\n",
       "</div>"
      ],
      "text/plain": [
       "                  Control        Treatment     SMD\n",
       "Variable                                          \n",
       "n                     151              149        \n",
       "age          46.01 (9.79)    39.09 (11.53) -0.6469\n",
       "hours     337.78 (464.00)  328.57 (442.12) -0.0203\n",
       "male          0.34 (0.47)      0.66 (0.48)  0.6732"
      ]
     },
     "execution_count": 8,
     "metadata": {},
     "output_type": "execute_result"
    }
   ],
   "source": [
    "from causalml.match import create_table_one\n",
    "\n",
    "X = ['male', 'age', 'hours']\n",
    "table1 = create_table_one(df, 'dark_mode', X)\n",
    "table1"
   ]
  },
  {
   "cell_type": "markdown",
   "id": "74c30d17",
   "metadata": {},
   "source": [
    "There seems to be **some difference** between treatment (`dark_mode`) and control group. In particular, users that select the `dark_mode` are older, have spent less hours on the blog and they are more likely to be males.\n",
    "\n",
    "What can we do? If we assume that all differences between treatment and control group are **observable**, we can solve the problem by performing **conditional analysis**."
   ]
  },
  {
   "cell_type": "markdown",
   "id": "277df68e",
   "metadata": {},
   "source": [
    "## Conditional Analysis"
   ]
  },
  {
   "cell_type": "markdown",
   "id": "55ca03e7",
   "metadata": {},
   "source": [
    "We assume that for a set of subjects $i = 1, ..., n$ we observed a set of variables $(D_i, Y_i, X_i)$ that includes\n",
    "\n",
    "- a treatment assignment $D_i \\in \\lbrace 0, 1 \\rbrace$ (`dark_mode`)\n",
    "- a response $Y_i \\in \\mathbb R$ (`read_time`)\n",
    "- a feature vector $X_i \\in \\mathbb R^n$ (`gender`, `age` and `hours`)\n",
    "\n",
    "We are interested in **estimating the conditional average treatment effect (CATE)**.\n",
    "\n",
    "$$\n",
    "\\tau(x) = \\mathbb E \\Big[ Y_i^{(1)} - Y_i^{(0)} \\ \\Big| \\ X_i = x \\Big]\n",
    "$$\n",
    "\n",
    "Where $Y_i^{(d)}$ indicates the potential outcome of individual $i$ under treatment status $d$. We also make the following assumptions.\n",
    "\n",
    "**Assumption 1 : unconfoundedness** (or ignorability, or selection on observables)\n",
    "\n",
    "$$\n",
    "\\big \\lbrace Y_i^{(1)} , Y_i^{(0)} \\big \\rbrace \\ \\perp \\ D_i \\ | \\ X_i\n",
    "$$\n",
    "\n",
    "i.e. conditional on observable characteristics $X$, the treatment assignment $D$ is as good as random. What we are effectively assuming is that there is no other characteristics that we do not observe that could impact both whether a user selects the `dark_mode` and their `read_time`. This is a **strong assumption** that is more likely to be satisfied the more individual characteristics we observe.\n",
    "\n",
    "**Assumption 2: overlap** (or common support)\n",
    "\n",
    "$$\n",
    "\\exists \\eta > 0 \\ : \\ \\eta \\leq \\mathbb E \\left[ D_i = 1 \\ \\big | \\ X_i = x \\right] \\leq 1-\\eta\n",
    "$$\n",
    "\n",
    "i.e. no observation is deterministically assigned to the treatment or control group. This is a more technical assumption that basically means that for any level of `gender`, `age` or `hours`, there could exist an individual that select the `dark_mode` and one that doesn't. Differently from the unconfoundedness assumption, the overal assumption is **testable**.\n",
    "\n",
    "**Assumption 3: stable unit treatment value (SUTVA)**\n",
    "\n",
    "$$\n",
    "Y^{(d)} \\perp D\n",
    "$$\n",
    "\n",
    "i.e. the potential outcome does not depend on the treatment status. In our case, we are ruling out the fact that another user selecting `dark_mode` might affect my effect of `dark_mode` on `read_time`. The most common setting where SUTVA is violated is in presence of **network effects**: if a friend of mine uses a social network increases my utility from using it."
   ]
  },
  {
   "cell_type": "markdown",
   "id": "66837f35",
   "metadata": {},
   "source": [
    "### IPW and Meta-Learners"
   ]
  },
  {
   "cell_type": "markdown",
   "id": "af1ffd6b",
   "metadata": {},
   "source": [
    "Two alternative ways to perform conditional analysis are \n",
    "\n",
    "1. [**IPW**](https://towardsdatascience.com/99bf5cffa0d9): balance observations by their conditional treatment assignment probability and then estimate the treatment effect as a weighted difference in means\n",
    "2. [**Meta Learners**](https://towardsdatascience.com/8a9c1e340832): predict the potential outcomes from observable characteristics and estimate treatment effects as the difference between observed and counterfactual outcomes\n",
    "\n",
    "These two alternative procedures exploit the fact that we observe individual characteristics $X$ in different ways:\n",
    "\n",
    "1. IPW exploits $X$ to predict the treatment assignment $D$ and estimate the **propensity scores** $e(X) = \\mathbb{E} [D | X]$\n",
    "2. Meta Learners exploit $X$ to predict the counterfactual outcomes $Y^{(d)}$ and estimate the **response function** $\\mu(X)^{(d)} = \\mathbb{E} [Y | D, X]$\n",
    "\n",
    "Can we **combine** the two procedures and get the best of both worlds? \n",
    "\n",
    "Yes, with the **AIPW or double-robust estimator**."
   ]
  },
  {
   "cell_type": "markdown",
   "id": "43970e20",
   "metadata": {},
   "source": [
    "## The AIPW Estimator"
   ]
  },
  {
   "cell_type": "markdown",
   "id": "7e613f7c",
   "metadata": {},
   "source": [
    "The **Augmented Inverse Propensity Weighted** estimator is given by\n",
    "\n",
    "$$\n",
    "\\hat \\tau_{AIPW} = \\frac{1}{n} \\sum_{i=1}^{n} \\left( \\hat \\mu^{(1)}(X_i) - \\hat \\mu^{(0)}(X_i) + \\frac{D_i }{\\hat e(X_i)} \\left( Y_i - \\hat \\mu^{(1)}(X_i) \\right) - \\frac{(1-D_i) }{1-\\hat e(X_i)} \\left( Y_i - \\hat \\mu^{(0)}(X_i) \\right) \\right)\n",
    "$$\n",
    "\n",
    "where $\\mu^{(d)}(x)$ is the **response function**, i.e. the expected value of the outcome, conditional on observable characteristics $x$ and treatment status $d$, and $e(X)$ is the **propensity score**.\n",
    "\n",
    "$$\n",
    "\\mu^{(d)}(x) = \\mathbb E \\left[ Y_i \\ \\big | \\ X_i = x, D_i = d \\right] \\qquad ; \\qquad e(x) = \\mathbb E \\left[ D_i = 1 \\ \\big | \\ X_i = x \\right]\n",
    "$$\n",
    "\n",
    "The formula of the AIPW estimator seems very cryptic at first, so let's dig deeper and try to understand it."
   ]
  },
  {
   "cell_type": "markdown",
   "id": "c75330c9",
   "metadata": {},
   "source": [
    "### Decomposition"
   ]
  },
  {
   "cell_type": "markdown",
   "id": "27a2d545",
   "metadata": {},
   "source": [
    "The best way to understand the AIPW formula is to **decompose** it into two parts.\n",
    "\n",
    "The **first way** is to decompose the AIPW estimator into a [**S-learner estimator**](https://towardsdatascience.com/8a9c1e340832) and an adjustment factor.\n",
    "\n",
    "$$\n",
    "\\hat \\tau_{AIPW} = \\hat \\tau_{S-learn} + \\widehat{\\text{adj}}_{S-learn}\n",
    "$$\n",
    "\n",
    "where\n",
    "\n",
    "$$\n",
    "\\begin{aligned}\n",
    "\\hat \\tau_{S-learn} =& \\frac{1}{n} \\sum_{i=1}^{n} \\left( \\hat \\mu^{(1)}(X_i) - \\hat \\mu^{(0)}(X_i) \\right) \\newline\n",
    "\\widehat {adj} _ {S-learn} =& \\frac{1}{n} \\sum_{i=1}^{n} \\left(\\frac{D_i }{\\hat e(X_i)} \\left( Y_i - \\hat \\mu^{(1)}(X_i) \\right) - \\frac{(1-D_i) }{1-\\hat e(X_i)} \\left( Y_i - \\hat \\mu^{(0)}(X_i) \\right) \\right)\n",
    "\\end{aligned}\n",
    "$$\n",
    "\n",
    "The adjustment is essentially an IPW estimator performed on the **residuals** of the S-learner.\n",
    "\n",
    "The **second way** to decompose the AIPW estimator into the **IPW estimator** and an adjustment factor.\n",
    "\n",
    "$$\n",
    "\\hat \\tau_{AIPW} = \\hat \\tau_{IPW} + \\widehat{\\text{adj}}_{IPW}\n",
    "$$\n",
    "\n",
    "where\n",
    "\n",
    "$$\n",
    "\\begin{aligned}\n",
    "\\hat \\tau_{IPW} &= \\frac{1}{n} \\sum _ {i=1}^{n} \\left( \\frac{D_i Y_i}{\\hat e(X_i)} - \\frac{(1-D_i) Y_i}{1-\\hat e(X_i)} \\right) \\newline\n",
    "\\widehat {adj} _ {IPW} &= \\frac{1}{n} \\sum_{i=1}^{n} \\left( \\frac{\\hat e(X_i) - D_i}{\\hat e(X_i)} \\hat \\mu^{(1)}(X_i) - \\frac{(1-\\hat e(X_i)) - (1-D_i)}{1-\\hat e(X_i)} \\hat \\mu^{(0)}(X_i) \\right)\n",
    "\\end{aligned}\n",
    "$$\n",
    "\n",
    "The adjustment is essentially an S-learner estimator weighted by the residual treatment probabilities."
   ]
  },
  {
   "cell_type": "markdown",
   "id": "1e7b5579",
   "metadata": {},
   "source": [
    "### Double Robustness"
   ]
  },
  {
   "cell_type": "markdown",
   "id": "e2cadb41",
   "metadata": {},
   "source": [
    "Why is the AIPW estimator so **compelling**? The reason is that it just needs one of the two predictions, $\\hat \\mu$ or $\\hat e$, to be right in order to be **unbiased** (i.e. correct on average). Let's check it.\n",
    "\n",
    "If $\\hat \\mu$ is correctly specified, i.e. $\\mathbb E \\left[ \\hat \\mu^{(d)}(x) \\right] = \\mathbb E \\left[ Y_i \\ \\big | \\ X_i = x, D_i = d \\right]$, then $\\hat \\tau_{AIPW}$ is unbiased, **even if** $\\hat e$ is misspecified.\n",
    "\n",
    "$$\n",
    "\\begin{aligned}\n",
    "\\hat \\tau_{AIPW} &\\overset{p}{\\to} \\mathbb E \\Big[ \\hat \\tau_{S-learn} + \\widehat{\\text{adj}}_{S-learn} \\Big] = \\newline\n",
    "&= \\mathbb E \\left[ \\hat \\mu^{(1)}(X_i) - \\hat \\mu^{(0)}(X_i) + \\frac{D_i \\left( Y_i - \\hat \\mu^{(1)}(X_i) \\right)}{\\hat e(X_i)} - \\frac{(1-D_i) \\left( Y_i - \\hat \\mu^{(0)}(X_i) \\right)}{1-\\hat e(X_i)} \\right] = \\newline\n",
    "&= \\mathbb E \\left[ \\hat \\mu^{(1)}(X_i) - \\hat \\mu^{(0)}(X_i) \\right] = \\newline\n",
    "&= \\mathbb E \\left[ Y^{(1)} - Y^{(0)} \\right] = \\newline\n",
    "&= \\tau\n",
    "\\end{aligned}\n",
    "$$\n",
    "\n",
    "The **intuition** is that, if $\\hat \\mu$ is correctly specified, $\\hat \\tau_{S-learn}$ is **unbiased** and the adjustment factor **vanishes**, since the residuals $\\left( Y_i - \\hat \\mu^{(t)}(X_i) \\right)$ converge to zero.\n",
    "\n",
    "On the other hand, if $\\hat e$ is correctly specified, i.e. $\\mathbb E \\left[\\hat e(x) \\right] = \\mathbb E \\left[ D_i = 1 \\ \\big | \\ X_i = x \\right]$, then $\\hat \\tau_{AIPW}$ is unbiased, **even if** $\\hat \\mu$ is misspecified.\n",
    "\n",
    "$$\n",
    "\\begin{aligned}\n",
    "\\hat \\tau_{AIPW} & \\overset{p}{\\to} \\mathbb E \\Big[ \\hat \\tau_{IPW} + \\widehat{\\text{adj}}_{IPW} \\Big] = \\newline\n",
    "&= \\mathbb E \\left[ \\frac{D_i Y_i}{\\hat e(X_i)} - \\frac{(1-D_i) Y_i }{1-\\hat e(X_i)} + \\frac{\\hat e(X_i) - D_i}{\\hat e(X_i)} \\hat \\mu^{(1)}(X_i) - \\frac{(1-\\hat e(X_i)) - (1-D_i)}{1-\\hat e(X_i)} \\hat \\mu^{(0)}(X_i) \\right] = \\newline\n",
    "&= \\mathbb E \\left[ \\frac{D_i Y_i}{\\hat e(X_i)} - \\frac{(1-D_i) Y_i }{1-\\hat e(X_i)}\\right] = \\newline\n",
    "&= \\mathbb E \\left[ Y^{(1)} - Y^{(0)} \\right] = \\newline\n",
    "&= \\tau\n",
    "\\end{aligned}\n",
    "$$ \n",
    "\n",
    "The **intuition** is that, if $\\hat e$ is correctly specified, $\\hat \\tau_{IPW}$ is **unbiased** and the adjustment factor **vanishes**, since the residuals $\\left( D_i - \\hat e (X_i) \\right)$ converge to zero. "
   ]
  },
  {
   "cell_type": "markdown",
   "id": "21736792",
   "metadata": {},
   "source": [
    "### Best Practices"
   ]
  },
  {
   "cell_type": "markdown",
   "id": "fe596f60",
   "metadata": {},
   "source": [
    "**1. Check Covariate Balance**\n",
    "\n",
    "Both IPW and AIPW were built for settings in which the treatment $D$ is not unconditionally randomly assigned, but might depend on some observables $X$. This information can be checked in two ways:\n",
    "\n",
    "1. Produce a balance table, summarizing the covariates across treatment arms. If unconditional randomization does not hold, we expect to see significant differences across some observables\n",
    "2. Plot the estimated propensity scores. If unconditional randomization holds, we expect the propensity scores to be constant\n",
    "\n",
    "**2. Check the Overlap Assumption**\n",
    "\n",
    "Another assumption that we can check is the **overlap** assumption, i.e. $\\exists \\eta \\ : \\ \\eta \\leq \\mathbb E \\left[ D_i = 1 \\ \\big | \\ X_i = x \\right] \\leq 1-\\eta$. To check this assumption we can simply check the bounds of the predicted propensity scores. If the overlap assumption is violated, we end up dividing some term of the estimator by zero.\n",
    "\n",
    "**3. Use Cross-Fitting**\n",
    "\n",
    "Whenever we build a prediction, it is best practice to exclude observation $i$ when estimating $\\hat \\mu^{(d)} (X_i)$ or $\\hat e (X_i)$. This procedure is generally known as [**cross-fitting**](https://en.wikipedia.org/wiki/Cross-validation_(statistics)) in the machine learning literature. While there are many possible ways to perform cross-fitting, the simplest one is the following:\n",
    "\n",
    "1. Split the sample in two at random\n",
    "2. Use sample 1 to estimate $\\hat \\mu^{(d)} (X_i)$ and $\\hat e (X_i)$\n",
    "3. Use sample 2 to estimate $\\hat{\\tau}_{AIPW, 1}$\n",
    "4. Repeat (2) and (3) swapping samples to estimate $\\hat{\\tau}_{AIPW, 2}$\n",
    "5. Compute $\\hat{\\tau}_{AIPW}$ as the average of the two estimates\n",
    "\n",
    "Steps (2) and (3) ensure that the estimator is **not overfitting**. Steps (4) and (5) ensure that the estimator is **efficient**, using all the data for all steps and not just half. [Kennedy (2022)](https://arxiv.org/abs/2004.14497) shows that this procedure produces much more precise estimates than existing methods and provide formal results on error bounds. In particular, their main result is the following:\n",
    "\n",
    "> \"*The bound on the DR-Learner error given in Theorem 2 shows that it can only deviate from the oracle error by at most a (smoothed) product of errors in the propensity score and regression estimators, thus allowing faster rates for estimating the CATE even when the nui- sance estimates converge at slower rates. Importantly the result is agnostic about the methods used, and requires no special tuning or undersmoothing.*\""
   ]
  },
  {
   "cell_type": "markdown",
   "id": "9cebbe80",
   "metadata": {},
   "source": [
    "## Back to the Data"
   ]
  },
  {
   "cell_type": "markdown",
   "id": "5ef56739",
   "metadata": {},
   "source": [
    "Let's now build and explore the AIPW estimator in our dataset on blog reading time and dark mode. "
   ]
  },
  {
   "cell_type": "markdown",
   "id": "26eb6d7f",
   "metadata": {},
   "source": [
    "### Propensity Scores"
   ]
  },
  {
   "cell_type": "markdown",
   "id": "6bb5b16a",
   "metadata": {},
   "source": [
    "First, let's estimate the **propensity scores** $e(X)$."
   ]
  },
  {
   "cell_type": "code",
   "execution_count": 9,
   "id": "83be3418",
   "metadata": {
    "ExecuteTime": {
     "end_time": "2022-07-15T08:24:16.882589Z",
     "start_time": "2022-07-15T08:24:16.879021Z"
    }
   },
   "outputs": [],
   "source": [
    "def estimate_e(df, X, D, model_e):\n",
    "    e = model_e.fit(df[X], df[D]).predict_proba(df[X])[:,1]\n",
    "    return e"
   ]
  },
  {
   "cell_type": "markdown",
   "id": "c675176b",
   "metadata": {},
   "source": [
    "We estimate them by [logistic regression](https://en.wikipedia.org/wiki/Logistic_regression) using the `LogisticRegression` methods from the `sklearn` package."
   ]
  },
  {
   "cell_type": "code",
   "execution_count": 10,
   "id": "4f98beac",
   "metadata": {
    "ExecuteTime": {
     "end_time": "2022-07-15T08:24:17.735558Z",
     "start_time": "2022-07-15T08:24:17.707085Z"
    }
   },
   "outputs": [],
   "source": [
    "from sklearn.linear_model import LogisticRegression\n",
    "\n",
    "df['e'] = estimate_e(df, X, \"dark_mode\", LogisticRegression())"
   ]
  },
  {
   "cell_type": "markdown",
   "id": "bc6dd369",
   "metadata": {},
   "source": [
    "Let's check if the **bounded support** assumption is satisfied, by plotting the estimated propensity scores, across treatment and control groups."
   ]
  },
  {
   "cell_type": "code",
   "execution_count": 11,
   "id": "900bf827",
   "metadata": {
    "ExecuteTime": {
     "end_time": "2022-07-15T08:24:19.040775Z",
     "start_time": "2022-07-15T08:24:18.854676Z"
    }
   },
   "outputs": [
    {
     "data": {
      "image/png": "[encoded data removed]",
      "text/plain": [
       "<Figure size 720x432 with 1 Axes>"
      ]
     },
     "metadata": {
      "image/png": {
       "height": 417,
       "width": 600
      }
     },
     "output_type": "display_data"
    }
   ],
   "source": [
    "sns.histplot(data=df, x='e', hue='dark_mode', bins=30, stat='density', common_norm=False).\\\n",
    "    set(ylabel=\"\", title=\"Distribution of Propensity Scores\");"
   ]
  },
  {
   "cell_type": "markdown",
   "id": "ed211009",
   "metadata": {},
   "source": [
    "The distribution of propensity scores is different between two groups, but it's generally overlapping.\n",
    "\n",
    "We can now use the propensity scores to build the IPW estimator."
   ]
  },
  {
   "cell_type": "code",
   "execution_count": 15,
   "id": "34e7590d",
   "metadata": {
    "ExecuteTime": {
     "end_time": "2022-07-15T12:02:55.291982Z",
     "start_time": "2022-07-15T12:02:55.242678Z"
    }
   },
   "outputs": [
    {
     "data": {
      "text/html": [
       "<table class=\"simpletable\">\n",
       "<tr>\n",
       "          <td></td>             <th>coef</th>     <th>std err</th>      <th>t</th>      <th>P>|t|</th>  <th>[0.025</th>    <th>0.975]</th>  \n",
       "</tr>\n",
       "<tr>\n",
       "  <th>Intercept</th>         <td>   18.6099</td> <td>    0.412</td> <td>   45.159</td> <td> 0.000</td> <td>   17.799</td> <td>   19.421</td>\n",
       "</tr>\n",
       "<tr>\n",
       "  <th>dark_mode[T.True]</th> <td>    1.0620</td> <td>    0.582</td> <td>    1.826</td> <td> 0.069</td> <td>   -0.083</td> <td>    2.207</td>\n",
       "</tr>\n",
       "</table>"
      ],
      "text/plain": [
       "<class 'statsmodels.iolib.table.SimpleTable'>"
      ]
     },
     "execution_count": 15,
     "metadata": {},
     "output_type": "execute_result"
    }
   ],
   "source": [
    "w = 1 / (e * df[\"dark_mode\"] + (1-e) * (1-df[\"dark_mode\"]))\n",
    "smf.wls(\"read_time ~ dark_mode\", weights=w, data=df).fit().summary().tables[1]"
   ]
  },
  {
   "cell_type": "markdown",
   "id": "ba89de55",
   "metadata": {},
   "source": [
    "Note that the computed standard errors are not exact, since we are ignoring the extra uncertainty that comes from the estimation of the propensity scores $e(X)$."
   ]
  },
  {
   "cell_type": "markdown",
   "id": "04db68f8",
   "metadata": {},
   "source": [
    "### Response Function"
   ]
  },
  {
   "cell_type": "markdown",
   "id": "39f1e5f8",
   "metadata": {},
   "source": [
    "Let's now estimate the second building block of the AIPW estimator: the **response function** $\\mu(X)$."
   ]
  },
  {
   "cell_type": "code",
   "execution_count": 17,
   "id": "caa073d8",
   "metadata": {
    "ExecuteTime": {
     "end_time": "2022-07-15T13:35:50.450297Z",
     "start_time": "2022-07-15T13:35:50.432256Z"
    }
   },
   "outputs": [],
   "source": [
    "def estimate_mu(df, X, D, y, model_mu):\n",
    "    mu = model_mu.fit(df[X + [D]], df[y])\n",
    "    mu0 = mu.predict(df[X + [D]].assign(dark_mode=0))\n",
    "    mu1 = mu.predict(df[X + [D]].assign(dark_mode=1))\n",
    "    return mu0, mu1"
   ]
  },
  {
   "cell_type": "markdown",
   "id": "086572b0",
   "metadata": {},
   "source": [
    "Let's start by estimating $\\mu(X)$ with linear regression."
   ]
  },
  {
   "cell_type": "code",
   "execution_count": 16,
   "id": "20edc6e8",
   "metadata": {
    "ExecuteTime": {
     "end_time": "2022-07-15T12:03:05.315328Z",
     "start_time": "2022-07-15T12:03:05.283221Z"
    }
   },
   "outputs": [
    {
     "name": "stdout",
     "output_type": "stream",
     "text": [
      "1.3858099131476969\n"
     ]
    }
   ],
   "source": [
    "from sklearn.linear_model import LinearRegression\n",
    "\n",
    "mu0, mu1 = estimate_mu(df, X, \"dark_mode\", \"read_time\", LinearRegression())\n",
    "print(np.mean(mu1-mu0))"
   ]
  },
  {
   "cell_type": "markdown",
   "id": "0193b197",
   "metadata": {},
   "source": [
    "We have computed the meta learner estimate of the average treatment effect as the difference in means between the two estimated response functions, $\\mu^{(1)}(X)$ and $\\mu^{(0)}(X)$.\n",
    "\n",
    "**Note** that we can use any estimator to get the response function, I used linear regression for simplicity."
   ]
  },
  {
   "cell_type": "markdown",
   "id": "9e350516",
   "metadata": {},
   "source": [
    "### Estimating AIPW"
   ]
  },
  {
   "cell_type": "markdown",
   "id": "097871c1",
   "metadata": {},
   "source": [
    "We now have **all the building blocks** to compute the AIPW estimator!"
   ]
  },
  {
   "cell_type": "code",
   "execution_count": 23,
   "id": "8223c7eb",
   "metadata": {
    "ExecuteTime": {
     "end_time": "2022-07-15T14:49:02.858038Z",
     "start_time": "2022-07-15T14:49:02.848371Z"
    }
   },
   "outputs": [
    {
     "name": "stdout",
     "output_type": "stream",
     "text": [
      "1.3153774511905783\n"
     ]
    }
   ],
   "source": [
    "aipw = mu1 - mu0 + df[\"dark_mode\"] / e * (df[\"read_time\"] - mu1) - (1-df[\"dark_mode\"]) / (1-e) * (df[\"read_time\"] - mu0)\n",
    "print(np.mean(aipw))"
   ]
  },
  {
   "cell_type": "markdown",
   "id": "2b6a4977",
   "metadata": {},
   "source": [
    "We can also compute it directly using the `LinearDRLearner` function from Microsoft's [`EconML`](https://econml.azurewebsites.net/index.html) library. "
   ]
  },
  {
   "cell_type": "code",
   "execution_count": 24,
   "id": "efe62466",
   "metadata": {
    "ExecuteTime": {
     "end_time": "2022-07-15T14:49:04.631983Z",
     "start_time": "2022-07-15T14:49:03.192930Z"
    }
   },
   "outputs": [],
   "source": [
    "from econml.drlearner import LinearDRLearner\n",
    "\n",
    "model = LinearDRLearner(model_propensity=LogisticRegression(), \n",
    "                        model_regression=LinearRegression(),\n",
    "                        random_state=1)\n",
    "model.fit(Y=df[\"read_time\"], T=df[\"dark_mode\"], X=df[X]);"
   ]
  },
  {
   "cell_type": "markdown",
   "id": "e628fcc9",
   "metadata": {},
   "source": [
    "The model directly gives us the average treatment effect."
   ]
  },
  {
   "cell_type": "code",
   "execution_count": 25,
   "id": "c324d379",
   "metadata": {
    "ExecuteTime": {
     "end_time": "2022-07-15T14:49:04.690925Z",
     "start_time": "2022-07-15T14:49:04.684637Z"
    }
   },
   "outputs": [
    {
     "data": {
      "text/html": [
       "<table class=\"simpletable\">\n",
       "<caption>Uncertainty of Mean Point Estimate</caption>\n",
       "<tr>\n",
       "  <th>mean_point</th> <th>stderr_mean</th> <th>zstat</th> <th>pvalue</th> <th>ci_mean_lower</th> <th>ci_mean_upper</th>\n",
       "</tr>\n",
       "<tr>\n",
       "     <td>1.417</td>      <td>0.541</td>    <td>2.621</td>  <td>0.009</td>     <td>0.358</td>         <td>2.477</td>    \n",
       "</tr>\n",
       "</table>"
      ],
      "text/plain": [
       "<class 'statsmodels.iolib.table.SimpleTable'>"
      ]
     },
     "execution_count": 25,
     "metadata": {},
     "output_type": "execute_result"
    }
   ],
   "source": [
    "model.ate_inference(X=df[X].values, T0=0, T1=1).summary().tables[0]"
   ]
  },
  {
   "cell_type": "markdown",
   "id": "0d0dbafd",
   "metadata": {},
   "source": [
    "The estimate is statistically different from zero and the confidence interval includes the true value of 2. \n",
    "\n",
    "**Note** that we got a different estimate because the `LinearDRLearner` function also performed **cross-fitting** in the background, which we did not before."
   ]
  },
  {
   "cell_type": "markdown",
   "id": "980164ce",
   "metadata": {},
   "source": [
    "### Assessment"
   ]
  },
  {
   "cell_type": "markdown",
   "id": "20b95120",
   "metadata": {},
   "source": [
    "Let's now assess the main property of the AIPW estimator: its **double robustness**. To do so, we compare it with its two parents: the IPW estimator and the S-learner."
   ]
  },
  {
   "cell_type": "code",
   "execution_count": 18,
   "id": "f9cfac01",
   "metadata": {
    "ExecuteTime": {
     "end_time": "2022-07-15T14:47:51.799640Z",
     "start_time": "2022-07-15T14:47:51.788362Z"
    }
   },
   "outputs": [],
   "source": [
    "def compare_estimators(X_e, X_mu, D, y, seed):\n",
    "    df = dgp_darkmode().generate_data(seed=seed)\n",
    "    e = estimate_e(df, X_e, D, LogisticRegression())\n",
    "    mu0, mu1 = estimate_mu(df, X_mu, D, y, LinearRegression())\n",
    "    slearn = mu1 - mu0\n",
    "    ipw = (df[D] / e - (1-df[D]) / (1-e)) * df[y]\n",
    "    aipw = slearn + df[D] / e * (df[y] - mu1) - (1-df[D]) / (1-e) * (df[y] - mu0)\n",
    "    return np.mean((slearn, ipw, aipw), axis=1)"
   ]
  },
  {
   "cell_type": "markdown",
   "id": "109938d0",
   "metadata": {},
   "source": [
    "We use the [`joblib`](https://joblib.readthedocs.io/en/latest/) library to run the simulations in parallel and speed up the process."
   ]
  },
  {
   "cell_type": "code",
   "execution_count": 19,
   "id": "f271c7e3",
   "metadata": {
    "ExecuteTime": {
     "end_time": "2022-07-15T14:47:52.604676Z",
     "start_time": "2022-07-15T14:47:52.595798Z"
    }
   },
   "outputs": [],
   "source": [
    "from joblib import Parallel, delayed\n",
    "\n",
    "def simulate_estimators(X_e, X_mu, D, y):\n",
    "    r = Parallel(n_jobs=8)(delayed(compare_estimators)(X_e, X_mu, D, y, i) for i in range(100))\n",
    "    df_tau = pd.DataFrame(r, columns=['S-learn', 'IPW', 'AIPW'])\n",
    "    plot = sns.boxplot(data=pd.melt(df_tau), x='variable', y='value', linewidth=2);\n",
    "    plot.set(title=\"Distribution of $\\hat τ$ and its components\", xlabel='', ylabel='')\n",
    "    plot.axhline(2, c='r', ls=':');"
   ]
  },
  {
   "cell_type": "markdown",
   "id": "552f2f3a",
   "metadata": {},
   "source": [
    "First, let's assume that we use **all variables** for both models, $\\mu(X)$ and $e(X)$. In this case, both models are **well specified** and we expect all estimators to perform well.\n",
    "\n",
    "We plot the distribution of the three estimators across 100 simulations. "
   ]
  },
  {
   "cell_type": "code",
   "execution_count": 20,
   "id": "a8918955",
   "metadata": {
    "ExecuteTime": {
     "end_time": "2022-07-15T14:47:55.220285Z",
     "start_time": "2022-07-15T14:47:53.622589Z"
    }
   },
   "outputs": [
    {
     "data": {
      "image/png": "[encoded data removed]",
      "text/plain": [
       "<Figure size 720x432 with 1 Axes>"
      ]
     },
     "metadata": {
      "image/png": {
       "height": 404,
       "width": 600
      }
     },
     "output_type": "display_data"
    }
   ],
   "source": [
    "simulate_estimators(X_e=X, X_mu=X, D=\"dark_mode\", y=\"read_time\")"
   ]
  },
  {
   "cell_type": "markdown",
   "id": "c4284387",
   "metadata": {},
   "source": [
    "Indeed, all estimator are **unbiased** and deliver very similar estimates.\n",
    "\n",
    "What happens if we **misspecify** one of the two models? Let's start by (correctly) assuming that `gender` and `age` influence the probability of selecting `dark_mode` and (wrongly) assuming that only previous `hours` influence the weekly `read_time`. In this case, the propensity score $e(X)$ is well specified, while the response function $\\mu(X)$ is misspecified."
   ]
  },
  {
   "cell_type": "code",
   "execution_count": 21,
   "id": "f9141976",
   "metadata": {
    "ExecuteTime": {
     "end_time": "2022-07-15T14:47:58.263810Z",
     "start_time": "2022-07-15T14:47:57.975983Z"
    }
   },
   "outputs": [
    {
     "data": {
      "image/png": "[encoded data removed]",
      "text/plain": [
       "<Figure size 720x432 with 1 Axes>"
      ]
     },
     "metadata": {
      "image/png": {
       "height": 404,
       "width": 607
      }
     },
     "output_type": "display_data"
    }
   ],
   "source": [
    "simulate_estimators(X_e=['male', 'age'], X_mu=['hours'], D=\"dark_mode\", y=\"read_time\")"
   ]
  },
  {
   "cell_type": "markdown",
   "id": "71838b3e",
   "metadata": {},
   "source": [
    "As expected, the S-learner is biased since we have misspecified $\\mu(X)$, while IPW isn't. AIPW picks the **best of both worlds** and is unbiased.\n",
    "\n",
    "Let's now explore the alternative **misspecification**. We (wrongly) assume that only `age` influences the probability of selecting `dark_mode` and (correctly) assume that both `gender` and previous `hours` influence the weekly `read_time`. In this case, the propensity score $e(X)$ is misspecified, while the response function $\\mu(X)$ is correctly specified."
   ]
  },
  {
   "cell_type": "code",
   "execution_count": 22,
   "id": "e301975b",
   "metadata": {
    "ExecuteTime": {
     "end_time": "2022-07-15T14:48:03.056609Z",
     "start_time": "2022-07-15T14:48:02.788392Z"
    }
   },
   "outputs": [
    {
     "data": {
      "image/png": "[encoded data removed]",
      "text/plain": [
       "<Figure size 720x432 with 1 Axes>"
      ]
     },
     "metadata": {
      "image/png": {
       "height": 404,
       "width": 607
      }
     },
     "output_type": "display_data"
    }
   ],
   "source": [
    "simulate_estimators(['age'], ['male', 'hours'], D=\"dark_mode\", y=\"read_time\")"
   ]
  },
  {
   "cell_type": "markdown",
   "id": "3c5d5036",
   "metadata": {},
   "source": [
    "In this case, the S-learner is unbiased, while IPW isn't, since we have misspecified $e(X)$. Again, AIPW picks the **best of both worlds** and is unbiased."
   ]
  },
  {
   "cell_type": "markdown",
   "id": "e49ad949",
   "metadata": {},
   "source": [
    "## Conclusion"
   ]
  },
  {
   "cell_type": "markdown",
   "id": "63bbe6bd",
   "metadata": {},
   "source": [
    "In this article we have seen a method to estimate conditional average treatment effects (CATE), that is **robust to model misspecification**: the Augmented Inverse Propensity Weighted (AIPW) estimator. The AIPW estimator takes the best out of two existing estimators: the [IPW estimator]() and the [S-learner](). It requires the estimation of both the propensity score function $\\mathbb{E} [ D | X ]$ and the response function $\\mathbb{E} [ Y | D, X ]$ and it is **unbiased** even if one of the two functions is misspecified.\n",
    "\n",
    "This estimator is now a standard and it is included all the most important causal inference packages such as Microsoft's [EconML](https://econml.azurewebsites.net/), Uber's [causalml](https://causalml.readthedocs.io/) and Stanford researchers' R package [grf](https://grf-labs.github.io/grf/)."
   ]
  },
  {
   "cell_type": "markdown",
   "id": "c13eaa6b",
   "metadata": {},
   "source": [
    "### References"
   ]
  },
  {
   "cell_type": "markdown",
   "id": "a129903b",
   "metadata": {},
   "source": [
    "[1] J. Robins, A. Rotzniski, J. P. Zhao, [Estimation of regression coefficients when some regressors are not always observed](https://www.tandfonline.com/doi/abs/10.1080/01621459.1994.10476818) (1994), *Journal of the American Statistical Associations*.\n",
    "\n",
    "[2] A. Glyn, K. Quinn, [An Introduction to the Augmented Inverse Propensity Weighted Estimator](https://www.cambridge.org/core/journals/political-analysis/article/abs/an-introduction-to-the-augmented-inverse-propensity-weighted-estimator/4B1B8301E46F4432C4DCC91FE20780DB) (2010), *Political Analysis*.\n",
    "\n",
    "[3] E. Kennedy, [Towards optimal doubly robust estimation of heterogeneous causal effects](https://arxiv.org/abs/2004.14497) (2022), *working paper*."
   ]
  },
  {
   "cell_type": "markdown",
   "id": "b2bc46a4",
   "metadata": {},
   "source": [
    "### Related Articles"
   ]
  },
  {
   "cell_type": "markdown",
   "id": "9e676170",
   "metadata": {},
   "source": [
    "- [DAGs and Control Variables](https://towardsdatascience.com/b63dc69e3d8c)\n",
    "- [Matching, Weighting, or Regression?](https://towardsdatascience.com/99bf5cffa0d9)\n",
    "- [Understanding Meta Learners](https://towardsdatascience.com/8a9c1e340832)"
   ]
  },
  {
   "cell_type": "markdown",
   "id": "55520f37",
   "metadata": {},
   "source": [
    "### Code"
   ]
  },
  {
   "cell_type": "markdown",
   "id": "81004c87",
   "metadata": {},
   "source": [
    "You can find the original Jupyter Notebook here:\n",
    "\n",
    "https://github.com/matteocourthoud/Blog-Posts/blob/main/notebooks/aipw.ipynb"
   ]
  }
 ],
 "metadata": {
  "@webio": {
   "lastCommId": null,
   "lastKernelId": null
  },
  "kernelspec": {
   "display_name": "Python 3 (ipykernel)",
   "language": "python",
   "name": "python3"
  },
  "language_info": {
   "codemirror_mode": {
    "name": "ipython",
    "version": 3
   },
   "file_extension": ".py",
   "mimetype": "text/x-python",
   "name": "python",
   "nbconvert_exporter": "python",
   "pygments_lexer": "ipython3",
   "version": "3.9.12"
  },
  "toc": {
   "base_numbering": 1,
   "nav_menu": {},
   "number_sections": false,
   "sideBar": true,
   "skip_h1_title": true,
   "title_cell": "Table of Contents",
   "title_sidebar": "Contents",
   "toc_cell": false,
   "toc_position": {
    "height": "calc(100% - 180px)",
    "left": "10px",
    "top": "150px",
    "width": "193.473px"
   },
   "toc_section_display": true,
   "toc_window_display": true
  },
  "varInspector": {
   "cols": {
    "lenName": 16,
    "lenType": 16,
    "lenVar": 40
   },
   "kernels_config": {
    "python": {
     "delete_cmd_postfix": "",
     "delete_cmd_prefix": "del ",
     "library": "var_list.py",
     "varRefreshCmd": "print(var_dic_list())"
    },
    "r": {
     "delete_cmd_postfix": ") ",
     "delete_cmd_prefix": "rm(",
     "library": "var_list.r",
     "varRefreshCmd": "cat(var_dic_list()) "
    }
   },
   "types_to_exclude": [
    "module",
    "function",
    "builtin_function_or_method",
    "instance",
    "_Feature"
   ],
   "window_display": false
  }
 },
 "nbformat": 4,
 "nbformat_minor": 5
}
